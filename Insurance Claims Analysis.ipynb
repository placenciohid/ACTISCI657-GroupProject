{
 "cells": [
  {
   "attachments": {},
   "cell_type": "markdown",
   "metadata": {},
   "source": [
    "# Insurance Claims Analysis - Group Project ACT SCI 657"
   ]
  },
  {
   "attachments": {},
   "cell_type": "markdown",
   "metadata": {},
   "source": [
    "The data is sourced from Kaggle, it can be accessed through the following link:\n",
    "\n",
    "https://www.kaggle.com/datasets/buntyshah/auto-insurance-claims-data?datasetId=45152&sortBy=voteCount"
   ]
  },
  {
   "cell_type": "code",
   "execution_count": 1,
   "metadata": {},
   "outputs": [],
   "source": [
    "# Import the required libraries\n",
    "import pandas as pd\n",
    "import numpy as np\n",
    "import matplotlib.pyplot as plt\n",
    "import seaborn as sns\n",
    "import warnings \n",
    "warnings.filterwarnings('ignore')\n",
    "from sklearn.preprocessing import LabelEncoder\n",
    "from sklearn.preprocessing import StandardScaler\n",
    "from sklearn.model_selection import train_test_split\n",
    "from sklearn.metrics import accuracy_score,confusion_matrix,classification_report"
   ]
  },
  {
   "attachments": {},
   "cell_type": "markdown",
   "metadata": {},
   "source": [
    "# Data Reading"
   ]
  },
  {
   "cell_type": "code",
   "execution_count": 2,
   "metadata": {},
   "outputs": [],
   "source": [
    "# Read the xls file\n",
    "df=pd.read_excel('insurance_claims.xlsx')"
   ]
  },
  {
   "cell_type": "code",
   "execution_count": 3,
   "metadata": {},
   "outputs": [
    {
     "data": {
      "text/html": [
       "<div>\n",
       "<style scoped>\n",
       "    .dataframe tbody tr th:only-of-type {\n",
       "        vertical-align: middle;\n",
       "    }\n",
       "\n",
       "    .dataframe tbody tr th {\n",
       "        vertical-align: top;\n",
       "    }\n",
       "\n",
       "    .dataframe thead th {\n",
       "        text-align: right;\n",
       "    }\n",
       "</style>\n",
       "<table border=\"1\" class=\"dataframe\">\n",
       "  <thead>\n",
       "    <tr style=\"text-align: right;\">\n",
       "      <th></th>\n",
       "      <th>months_as_customer</th>\n",
       "      <th>age</th>\n",
       "      <th>policy_number</th>\n",
       "      <th>policy_bind_date</th>\n",
       "      <th>policy_state</th>\n",
       "      <th>policy_csl</th>\n",
       "      <th>policy_deductable</th>\n",
       "      <th>policy_annual_premium</th>\n",
       "      <th>umbrella_limit</th>\n",
       "      <th>insured_zip</th>\n",
       "      <th>...</th>\n",
       "      <th>police_report_available</th>\n",
       "      <th>total_claim_amount</th>\n",
       "      <th>injury_claim</th>\n",
       "      <th>property_claim</th>\n",
       "      <th>vehicle_claim</th>\n",
       "      <th>auto_make</th>\n",
       "      <th>auto_model</th>\n",
       "      <th>auto_year</th>\n",
       "      <th>fraud_reported</th>\n",
       "      <th>_c39</th>\n",
       "    </tr>\n",
       "  </thead>\n",
       "  <tbody>\n",
       "    <tr>\n",
       "      <th>0</th>\n",
       "      <td>328</td>\n",
       "      <td>48</td>\n",
       "      <td>521585</td>\n",
       "      <td>2014-10-17</td>\n",
       "      <td>OH</td>\n",
       "      <td>250/500</td>\n",
       "      <td>1000</td>\n",
       "      <td>1406.91</td>\n",
       "      <td>0</td>\n",
       "      <td>466132</td>\n",
       "      <td>...</td>\n",
       "      <td>YES</td>\n",
       "      <td>71610</td>\n",
       "      <td>6510</td>\n",
       "      <td>13020</td>\n",
       "      <td>52080</td>\n",
       "      <td>Saab</td>\n",
       "      <td>92x</td>\n",
       "      <td>2004</td>\n",
       "      <td>Y</td>\n",
       "      <td>NaN</td>\n",
       "    </tr>\n",
       "    <tr>\n",
       "      <th>1</th>\n",
       "      <td>228</td>\n",
       "      <td>42</td>\n",
       "      <td>342868</td>\n",
       "      <td>2006-06-27</td>\n",
       "      <td>IN</td>\n",
       "      <td>250/500</td>\n",
       "      <td>2000</td>\n",
       "      <td>1197.22</td>\n",
       "      <td>5000000</td>\n",
       "      <td>468176</td>\n",
       "      <td>...</td>\n",
       "      <td>?</td>\n",
       "      <td>5070</td>\n",
       "      <td>780</td>\n",
       "      <td>780</td>\n",
       "      <td>3510</td>\n",
       "      <td>Mercedes</td>\n",
       "      <td>E400</td>\n",
       "      <td>2007</td>\n",
       "      <td>Y</td>\n",
       "      <td>NaN</td>\n",
       "    </tr>\n",
       "    <tr>\n",
       "      <th>2</th>\n",
       "      <td>134</td>\n",
       "      <td>29</td>\n",
       "      <td>687698</td>\n",
       "      <td>2000-09-06</td>\n",
       "      <td>OH</td>\n",
       "      <td>100/300</td>\n",
       "      <td>2000</td>\n",
       "      <td>1413.14</td>\n",
       "      <td>5000000</td>\n",
       "      <td>430632</td>\n",
       "      <td>...</td>\n",
       "      <td>NO</td>\n",
       "      <td>34650</td>\n",
       "      <td>7700</td>\n",
       "      <td>3850</td>\n",
       "      <td>23100</td>\n",
       "      <td>Dodge</td>\n",
       "      <td>RAM</td>\n",
       "      <td>2007</td>\n",
       "      <td>N</td>\n",
       "      <td>NaN</td>\n",
       "    </tr>\n",
       "    <tr>\n",
       "      <th>3</th>\n",
       "      <td>256</td>\n",
       "      <td>41</td>\n",
       "      <td>227811</td>\n",
       "      <td>1990-05-25</td>\n",
       "      <td>IL</td>\n",
       "      <td>250/500</td>\n",
       "      <td>2000</td>\n",
       "      <td>1415.74</td>\n",
       "      <td>6000000</td>\n",
       "      <td>608117</td>\n",
       "      <td>...</td>\n",
       "      <td>NO</td>\n",
       "      <td>63400</td>\n",
       "      <td>6340</td>\n",
       "      <td>6340</td>\n",
       "      <td>50720</td>\n",
       "      <td>Chevrolet</td>\n",
       "      <td>Tahoe</td>\n",
       "      <td>2014</td>\n",
       "      <td>Y</td>\n",
       "      <td>NaN</td>\n",
       "    </tr>\n",
       "    <tr>\n",
       "      <th>4</th>\n",
       "      <td>228</td>\n",
       "      <td>44</td>\n",
       "      <td>367455</td>\n",
       "      <td>2014-06-06</td>\n",
       "      <td>IL</td>\n",
       "      <td>500/1000</td>\n",
       "      <td>1000</td>\n",
       "      <td>1583.91</td>\n",
       "      <td>6000000</td>\n",
       "      <td>610706</td>\n",
       "      <td>...</td>\n",
       "      <td>NO</td>\n",
       "      <td>6500</td>\n",
       "      <td>1300</td>\n",
       "      <td>650</td>\n",
       "      <td>4550</td>\n",
       "      <td>Accura</td>\n",
       "      <td>RSX</td>\n",
       "      <td>2009</td>\n",
       "      <td>N</td>\n",
       "      <td>NaN</td>\n",
       "    </tr>\n",
       "  </tbody>\n",
       "</table>\n",
       "<p>5 rows × 40 columns</p>\n",
       "</div>"
      ],
      "text/plain": [
       "   months_as_customer  age  policy_number policy_bind_date policy_state  \\\n",
       "0                 328   48         521585       2014-10-17           OH   \n",
       "1                 228   42         342868       2006-06-27           IN   \n",
       "2                 134   29         687698       2000-09-06           OH   \n",
       "3                 256   41         227811       1990-05-25           IL   \n",
       "4                 228   44         367455       2014-06-06           IL   \n",
       "\n",
       "  policy_csl  policy_deductable  policy_annual_premium  umbrella_limit  \\\n",
       "0    250/500               1000                1406.91               0   \n",
       "1    250/500               2000                1197.22         5000000   \n",
       "2    100/300               2000                1413.14         5000000   \n",
       "3    250/500               2000                1415.74         6000000   \n",
       "4   500/1000               1000                1583.91         6000000   \n",
       "\n",
       "   insured_zip  ... police_report_available total_claim_amount injury_claim  \\\n",
       "0       466132  ...                     YES              71610         6510   \n",
       "1       468176  ...                       ?               5070          780   \n",
       "2       430632  ...                      NO              34650         7700   \n",
       "3       608117  ...                      NO              63400         6340   \n",
       "4       610706  ...                      NO               6500         1300   \n",
       "\n",
       "  property_claim vehicle_claim  auto_make  auto_model auto_year  \\\n",
       "0          13020         52080       Saab         92x      2004   \n",
       "1            780          3510   Mercedes        E400      2007   \n",
       "2           3850         23100      Dodge         RAM      2007   \n",
       "3           6340         50720  Chevrolet       Tahoe      2014   \n",
       "4            650          4550     Accura         RSX      2009   \n",
       "\n",
       "  fraud_reported _c39  \n",
       "0              Y  NaN  \n",
       "1              Y  NaN  \n",
       "2              N  NaN  \n",
       "3              Y  NaN  \n",
       "4              N  NaN  \n",
       "\n",
       "[5 rows x 40 columns]"
      ]
     },
     "execution_count": 3,
     "metadata": {},
     "output_type": "execute_result"
    }
   ],
   "source": [
    "# Preview the data\n",
    "df.head()"
   ]
  },
  {
   "cell_type": "code",
   "execution_count": 4,
   "metadata": {},
   "outputs": [
    {
     "data": {
      "text/plain": [
       "Index(['months_as_customer', 'age', 'policy_number', 'policy_bind_date',\n",
       "       'policy_state', 'policy_csl', 'policy_deductable',\n",
       "       'policy_annual_premium', 'umbrella_limit', 'insured_zip', 'insured_sex',\n",
       "       'insured_education_level', 'insured_occupation', 'insured_hobbies',\n",
       "       'insured_relationship', 'capital-gains', 'capital-loss',\n",
       "       'incident_date', 'incident_type', 'collision_type', 'incident_severity',\n",
       "       'authorities_contacted', 'incident_state', 'incident_city',\n",
       "       'incident_location', 'incident_hour_of_the_day',\n",
       "       'number_of_vehicles_involved', 'property_damage', 'bodily_injuries',\n",
       "       'witnesses', 'police_report_available', 'total_claim_amount',\n",
       "       'injury_claim', 'property_claim', 'vehicle_claim', 'auto_make',\n",
       "       'auto_model', 'auto_year', 'fraud_reported', '_c39'],\n",
       "      dtype='object')"
      ]
     },
     "execution_count": 4,
     "metadata": {},
     "output_type": "execute_result"
    }
   ],
   "source": [
    "# List the columns\n",
    "df.columns"
   ]
  },
  {
   "attachments": {},
   "cell_type": "markdown",
   "metadata": {},
   "source": [
    "# Exploratory Data Analysis"
   ]
  },
  {
   "cell_type": "code",
   "execution_count": 5,
   "metadata": {},
   "outputs": [
    {
     "data": {
      "text/html": [
       "<div>\n",
       "<style scoped>\n",
       "    .dataframe tbody tr th:only-of-type {\n",
       "        vertical-align: middle;\n",
       "    }\n",
       "\n",
       "    .dataframe tbody tr th {\n",
       "        vertical-align: top;\n",
       "    }\n",
       "\n",
       "    .dataframe thead th {\n",
       "        text-align: right;\n",
       "    }\n",
       "</style>\n",
       "<table border=\"1\" class=\"dataframe\">\n",
       "  <thead>\n",
       "    <tr style=\"text-align: right;\">\n",
       "      <th></th>\n",
       "      <th>months_as_customer</th>\n",
       "      <th>age</th>\n",
       "      <th>policy_number</th>\n",
       "      <th>policy_deductable</th>\n",
       "      <th>policy_annual_premium</th>\n",
       "      <th>umbrella_limit</th>\n",
       "      <th>insured_zip</th>\n",
       "      <th>capital-gains</th>\n",
       "      <th>capital-loss</th>\n",
       "      <th>incident_hour_of_the_day</th>\n",
       "      <th>number_of_vehicles_involved</th>\n",
       "      <th>bodily_injuries</th>\n",
       "      <th>witnesses</th>\n",
       "      <th>total_claim_amount</th>\n",
       "      <th>injury_claim</th>\n",
       "      <th>property_claim</th>\n",
       "      <th>vehicle_claim</th>\n",
       "      <th>auto_year</th>\n",
       "      <th>_c39</th>\n",
       "    </tr>\n",
       "  </thead>\n",
       "  <tbody>\n",
       "    <tr>\n",
       "      <th>count</th>\n",
       "      <td>1000.000000</td>\n",
       "      <td>1000.000000</td>\n",
       "      <td>1000.000000</td>\n",
       "      <td>1000.000000</td>\n",
       "      <td>1000.000000</td>\n",
       "      <td>1.000000e+03</td>\n",
       "      <td>1000.000000</td>\n",
       "      <td>1000.000000</td>\n",
       "      <td>1000.000000</td>\n",
       "      <td>1000.000000</td>\n",
       "      <td>1000.00000</td>\n",
       "      <td>1000.000000</td>\n",
       "      <td>1000.000000</td>\n",
       "      <td>1000.00000</td>\n",
       "      <td>1000.000000</td>\n",
       "      <td>1000.000000</td>\n",
       "      <td>1000.000000</td>\n",
       "      <td>1000.000000</td>\n",
       "      <td>0.0</td>\n",
       "    </tr>\n",
       "    <tr>\n",
       "      <th>mean</th>\n",
       "      <td>203.954000</td>\n",
       "      <td>38.948000</td>\n",
       "      <td>546238.648000</td>\n",
       "      <td>1136.000000</td>\n",
       "      <td>1256.406150</td>\n",
       "      <td>1.101000e+06</td>\n",
       "      <td>501214.488000</td>\n",
       "      <td>25126.100000</td>\n",
       "      <td>-26793.700000</td>\n",
       "      <td>11.644000</td>\n",
       "      <td>1.83900</td>\n",
       "      <td>0.992000</td>\n",
       "      <td>1.487000</td>\n",
       "      <td>52761.94000</td>\n",
       "      <td>7433.420000</td>\n",
       "      <td>7399.570000</td>\n",
       "      <td>37928.950000</td>\n",
       "      <td>2005.103000</td>\n",
       "      <td>NaN</td>\n",
       "    </tr>\n",
       "    <tr>\n",
       "      <th>std</th>\n",
       "      <td>115.113174</td>\n",
       "      <td>9.140287</td>\n",
       "      <td>257063.005276</td>\n",
       "      <td>611.864673</td>\n",
       "      <td>244.167395</td>\n",
       "      <td>2.297407e+06</td>\n",
       "      <td>71701.610941</td>\n",
       "      <td>27872.187708</td>\n",
       "      <td>28104.096686</td>\n",
       "      <td>6.951373</td>\n",
       "      <td>1.01888</td>\n",
       "      <td>0.820127</td>\n",
       "      <td>1.111335</td>\n",
       "      <td>26401.53319</td>\n",
       "      <td>4880.951853</td>\n",
       "      <td>4824.726179</td>\n",
       "      <td>18886.252893</td>\n",
       "      <td>6.015861</td>\n",
       "      <td>NaN</td>\n",
       "    </tr>\n",
       "    <tr>\n",
       "      <th>min</th>\n",
       "      <td>0.000000</td>\n",
       "      <td>19.000000</td>\n",
       "      <td>100804.000000</td>\n",
       "      <td>500.000000</td>\n",
       "      <td>433.330000</td>\n",
       "      <td>-1.000000e+06</td>\n",
       "      <td>430104.000000</td>\n",
       "      <td>0.000000</td>\n",
       "      <td>-111100.000000</td>\n",
       "      <td>0.000000</td>\n",
       "      <td>1.00000</td>\n",
       "      <td>0.000000</td>\n",
       "      <td>0.000000</td>\n",
       "      <td>100.00000</td>\n",
       "      <td>0.000000</td>\n",
       "      <td>0.000000</td>\n",
       "      <td>70.000000</td>\n",
       "      <td>1995.000000</td>\n",
       "      <td>NaN</td>\n",
       "    </tr>\n",
       "    <tr>\n",
       "      <th>25%</th>\n",
       "      <td>115.750000</td>\n",
       "      <td>32.000000</td>\n",
       "      <td>335980.250000</td>\n",
       "      <td>500.000000</td>\n",
       "      <td>1089.607500</td>\n",
       "      <td>0.000000e+00</td>\n",
       "      <td>448404.500000</td>\n",
       "      <td>0.000000</td>\n",
       "      <td>-51500.000000</td>\n",
       "      <td>6.000000</td>\n",
       "      <td>1.00000</td>\n",
       "      <td>0.000000</td>\n",
       "      <td>1.000000</td>\n",
       "      <td>41812.50000</td>\n",
       "      <td>4295.000000</td>\n",
       "      <td>4445.000000</td>\n",
       "      <td>30292.500000</td>\n",
       "      <td>2000.000000</td>\n",
       "      <td>NaN</td>\n",
       "    </tr>\n",
       "    <tr>\n",
       "      <th>50%</th>\n",
       "      <td>199.500000</td>\n",
       "      <td>38.000000</td>\n",
       "      <td>533135.000000</td>\n",
       "      <td>1000.000000</td>\n",
       "      <td>1257.200000</td>\n",
       "      <td>0.000000e+00</td>\n",
       "      <td>466445.500000</td>\n",
       "      <td>0.000000</td>\n",
       "      <td>-23250.000000</td>\n",
       "      <td>12.000000</td>\n",
       "      <td>1.00000</td>\n",
       "      <td>1.000000</td>\n",
       "      <td>1.000000</td>\n",
       "      <td>58055.00000</td>\n",
       "      <td>6775.000000</td>\n",
       "      <td>6750.000000</td>\n",
       "      <td>42100.000000</td>\n",
       "      <td>2005.000000</td>\n",
       "      <td>NaN</td>\n",
       "    </tr>\n",
       "    <tr>\n",
       "      <th>75%</th>\n",
       "      <td>276.250000</td>\n",
       "      <td>44.000000</td>\n",
       "      <td>759099.750000</td>\n",
       "      <td>2000.000000</td>\n",
       "      <td>1415.695000</td>\n",
       "      <td>0.000000e+00</td>\n",
       "      <td>603251.000000</td>\n",
       "      <td>51025.000000</td>\n",
       "      <td>0.000000</td>\n",
       "      <td>17.000000</td>\n",
       "      <td>3.00000</td>\n",
       "      <td>2.000000</td>\n",
       "      <td>2.000000</td>\n",
       "      <td>70592.50000</td>\n",
       "      <td>11305.000000</td>\n",
       "      <td>10885.000000</td>\n",
       "      <td>50822.500000</td>\n",
       "      <td>2010.000000</td>\n",
       "      <td>NaN</td>\n",
       "    </tr>\n",
       "    <tr>\n",
       "      <th>max</th>\n",
       "      <td>479.000000</td>\n",
       "      <td>64.000000</td>\n",
       "      <td>999435.000000</td>\n",
       "      <td>2000.000000</td>\n",
       "      <td>2047.590000</td>\n",
       "      <td>1.000000e+07</td>\n",
       "      <td>620962.000000</td>\n",
       "      <td>100500.000000</td>\n",
       "      <td>0.000000</td>\n",
       "      <td>23.000000</td>\n",
       "      <td>4.00000</td>\n",
       "      <td>2.000000</td>\n",
       "      <td>3.000000</td>\n",
       "      <td>114920.00000</td>\n",
       "      <td>21450.000000</td>\n",
       "      <td>23670.000000</td>\n",
       "      <td>79560.000000</td>\n",
       "      <td>2015.000000</td>\n",
       "      <td>NaN</td>\n",
       "    </tr>\n",
       "  </tbody>\n",
       "</table>\n",
       "</div>"
      ],
      "text/plain": [
       "       months_as_customer          age  policy_number  policy_deductable  \\\n",
       "count         1000.000000  1000.000000    1000.000000        1000.000000   \n",
       "mean           203.954000    38.948000  546238.648000        1136.000000   \n",
       "std            115.113174     9.140287  257063.005276         611.864673   \n",
       "min              0.000000    19.000000  100804.000000         500.000000   \n",
       "25%            115.750000    32.000000  335980.250000         500.000000   \n",
       "50%            199.500000    38.000000  533135.000000        1000.000000   \n",
       "75%            276.250000    44.000000  759099.750000        2000.000000   \n",
       "max            479.000000    64.000000  999435.000000        2000.000000   \n",
       "\n",
       "       policy_annual_premium  umbrella_limit    insured_zip  capital-gains  \\\n",
       "count            1000.000000    1.000000e+03    1000.000000    1000.000000   \n",
       "mean             1256.406150    1.101000e+06  501214.488000   25126.100000   \n",
       "std               244.167395    2.297407e+06   71701.610941   27872.187708   \n",
       "min               433.330000   -1.000000e+06  430104.000000       0.000000   \n",
       "25%              1089.607500    0.000000e+00  448404.500000       0.000000   \n",
       "50%              1257.200000    0.000000e+00  466445.500000       0.000000   \n",
       "75%              1415.695000    0.000000e+00  603251.000000   51025.000000   \n",
       "max              2047.590000    1.000000e+07  620962.000000  100500.000000   \n",
       "\n",
       "        capital-loss  incident_hour_of_the_day  number_of_vehicles_involved  \\\n",
       "count    1000.000000               1000.000000                   1000.00000   \n",
       "mean   -26793.700000                 11.644000                      1.83900   \n",
       "std     28104.096686                  6.951373                      1.01888   \n",
       "min   -111100.000000                  0.000000                      1.00000   \n",
       "25%    -51500.000000                  6.000000                      1.00000   \n",
       "50%    -23250.000000                 12.000000                      1.00000   \n",
       "75%         0.000000                 17.000000                      3.00000   \n",
       "max         0.000000                 23.000000                      4.00000   \n",
       "\n",
       "       bodily_injuries    witnesses  total_claim_amount  injury_claim  \\\n",
       "count      1000.000000  1000.000000          1000.00000   1000.000000   \n",
       "mean          0.992000     1.487000         52761.94000   7433.420000   \n",
       "std           0.820127     1.111335         26401.53319   4880.951853   \n",
       "min           0.000000     0.000000           100.00000      0.000000   \n",
       "25%           0.000000     1.000000         41812.50000   4295.000000   \n",
       "50%           1.000000     1.000000         58055.00000   6775.000000   \n",
       "75%           2.000000     2.000000         70592.50000  11305.000000   \n",
       "max           2.000000     3.000000        114920.00000  21450.000000   \n",
       "\n",
       "       property_claim  vehicle_claim    auto_year  _c39  \n",
       "count     1000.000000    1000.000000  1000.000000   0.0  \n",
       "mean      7399.570000   37928.950000  2005.103000   NaN  \n",
       "std       4824.726179   18886.252893     6.015861   NaN  \n",
       "min          0.000000      70.000000  1995.000000   NaN  \n",
       "25%       4445.000000   30292.500000  2000.000000   NaN  \n",
       "50%       6750.000000   42100.000000  2005.000000   NaN  \n",
       "75%      10885.000000   50822.500000  2010.000000   NaN  \n",
       "max      23670.000000   79560.000000  2015.000000   NaN  "
      ]
     },
     "execution_count": 5,
     "metadata": {},
     "output_type": "execute_result"
    }
   ],
   "source": [
    "# Summary the numerical columns\n",
    "df.describe()"
   ]
  },
  {
   "cell_type": "code",
   "execution_count": 6,
   "metadata": {},
   "outputs": [
    {
     "name": "stdout",
     "output_type": "stream",
     "text": [
      "<class 'pandas.core.frame.DataFrame'>\n",
      "RangeIndex: 1000 entries, 0 to 999\n",
      "Data columns (total 40 columns):\n",
      " #   Column                       Non-Null Count  Dtype         \n",
      "---  ------                       --------------  -----         \n",
      " 0   months_as_customer           1000 non-null   int64         \n",
      " 1   age                          1000 non-null   int64         \n",
      " 2   policy_number                1000 non-null   int64         \n",
      " 3   policy_bind_date             1000 non-null   datetime64[ns]\n",
      " 4   policy_state                 1000 non-null   object        \n",
      " 5   policy_csl                   1000 non-null   object        \n",
      " 6   policy_deductable            1000 non-null   int64         \n",
      " 7   policy_annual_premium        1000 non-null   float64       \n",
      " 8   umbrella_limit               1000 non-null   int64         \n",
      " 9   insured_zip                  1000 non-null   int64         \n",
      " 10  insured_sex                  1000 non-null   object        \n",
      " 11  insured_education_level      1000 non-null   object        \n",
      " 12  insured_occupation           1000 non-null   object        \n",
      " 13  insured_hobbies              1000 non-null   object        \n",
      " 14  insured_relationship         1000 non-null   object        \n",
      " 15  capital-gains                1000 non-null   int64         \n",
      " 16  capital-loss                 1000 non-null   int64         \n",
      " 17  incident_date                1000 non-null   datetime64[ns]\n",
      " 18  incident_type                1000 non-null   object        \n",
      " 19  collision_type               1000 non-null   object        \n",
      " 20  incident_severity            1000 non-null   object        \n",
      " 21  authorities_contacted        1000 non-null   object        \n",
      " 22  incident_state               1000 non-null   object        \n",
      " 23  incident_city                1000 non-null   object        \n",
      " 24  incident_location            1000 non-null   object        \n",
      " 25  incident_hour_of_the_day     1000 non-null   int64         \n",
      " 26  number_of_vehicles_involved  1000 non-null   int64         \n",
      " 27  property_damage              1000 non-null   object        \n",
      " 28  bodily_injuries              1000 non-null   int64         \n",
      " 29  witnesses                    1000 non-null   int64         \n",
      " 30  police_report_available      1000 non-null   object        \n",
      " 31  total_claim_amount           1000 non-null   int64         \n",
      " 32  injury_claim                 1000 non-null   int64         \n",
      " 33  property_claim               1000 non-null   int64         \n",
      " 34  vehicle_claim                1000 non-null   int64         \n",
      " 35  auto_make                    1000 non-null   object        \n",
      " 36  auto_model                   1000 non-null   object        \n",
      " 37  auto_year                    1000 non-null   int64         \n",
      " 38  fraud_reported               1000 non-null   object        \n",
      " 39  _c39                         0 non-null      float64       \n",
      "dtypes: datetime64[ns](2), float64(2), int64(17), object(19)\n",
      "memory usage: 312.6+ KB\n"
     ]
    }
   ],
   "source": [
    "# Info the data\n",
    "df.info()"
   ]
  },
  {
   "cell_type": "code",
   "execution_count": 7,
   "metadata": {},
   "outputs": [
    {
     "data": {
      "text/plain": [
       "_c39    1000\n",
       "dtype: int64"
      ]
     },
     "execution_count": 7,
     "metadata": {},
     "output_type": "execute_result"
    }
   ],
   "source": [
    "# Filet the columns with null values\n",
    "df.isnull().sum()[df.isnull().sum()>0]"
   ]
  },
  {
   "cell_type": "code",
   "execution_count": 8,
   "metadata": {},
   "outputs": [],
   "source": [
    "# Drop _c39 column\n",
    "df.drop('_c39',axis=1,inplace=True)"
   ]
  },
  {
   "cell_type": "code",
   "execution_count": 9,
   "metadata": {},
   "outputs": [],
   "source": [
    "# Replace the '?' with nan\n",
    "df.replace('?',np.nan,inplace=True)"
   ]
  },
  {
   "cell_type": "code",
   "execution_count": 10,
   "metadata": {},
   "outputs": [
    {
     "data": {
      "text/plain": [
       "(1000, 39)"
      ]
     },
     "execution_count": 10,
     "metadata": {},
     "output_type": "execute_result"
    }
   ],
   "source": [
    "# Total amount of rows\n",
    "df.shape"
   ]
  },
  {
   "cell_type": "code",
   "execution_count": 11,
   "metadata": {},
   "outputs": [
    {
     "name": "stdout",
     "output_type": "stream",
     "text": [
      "['policy_bind_date', 'policy_state', 'policy_csl', 'insured_sex', 'insured_education_level', 'insured_occupation', 'insured_hobbies', 'insured_relationship', 'incident_date', 'incident_type', 'collision_type', 'incident_severity', 'authorities_contacted', 'incident_state', 'incident_city', 'incident_location', 'property_damage', 'police_report_available', 'auto_make', 'auto_model', 'fraud_reported']\n"
     ]
    }
   ],
   "source": [
    "# Create a list of column names with data type non-numerical\n",
    "cat_cols=df.select_dtypes(exclude=np.number).columns.tolist()\n",
    "print(cat_cols)"
   ]
  },
  {
   "cell_type": "code",
   "execution_count": 12,
   "metadata": {},
   "outputs": [],
   "source": [
    "# Add the policy number, insurance zip, insurance location to the cat_cols list\n",
    "cat_cols.extend(['policy_number','insured_zip'])"
   ]
  },
  {
   "cell_type": "code",
   "execution_count": 13,
   "metadata": {},
   "outputs": [],
   "source": [
    "# Create a funciton to count the unique values in each column\n",
    "def unique_values(df):\n",
    "    for i in df.columns:\n",
    "        print(i,df[i].nunique())"
   ]
  },
  {
   "cell_type": "code",
   "execution_count": 14,
   "metadata": {},
   "outputs": [
    {
     "name": "stdout",
     "output_type": "stream",
     "text": [
      "policy_bind_date 951\n",
      "policy_state 3\n",
      "policy_csl 3\n",
      "insured_sex 2\n",
      "insured_education_level 7\n",
      "insured_occupation 14\n",
      "insured_hobbies 20\n",
      "insured_relationship 6\n",
      "incident_date 60\n",
      "incident_type 4\n",
      "collision_type 3\n",
      "incident_severity 4\n",
      "authorities_contacted 5\n",
      "incident_state 7\n",
      "incident_city 7\n",
      "incident_location 1000\n",
      "property_damage 2\n",
      "police_report_available 2\n",
      "auto_make 14\n",
      "auto_model 39\n",
      "fraud_reported 2\n",
      "policy_number 1000\n",
      "insured_zip 995\n"
     ]
    }
   ],
   "source": [
    "# Apply the function to the categorical columns\n",
    "unique_values(df[cat_cols])"
   ]
  },
  {
   "attachments": {},
   "cell_type": "markdown",
   "metadata": {},
   "source": [
    "From the set of categorical variables, we can see that some of them have over 900 different values, which is something to keep in mind as we go further into the prediciton models.\n",
    "\n",
    "The variables on this condition are:\n",
    "\n",
    "- policy_blind_date\n",
    "- incident_location\n",
    "- policy_number\n",
    "- insured_zip"
   ]
  },
  {
   "cell_type": "code",
   "execution_count": 15,
   "metadata": {},
   "outputs": [
    {
     "data": {
      "image/png": "[encoded data removed]",
      "text/plain": [
       "<Figure size 432x288 with 1 Axes>"
      ]
     },
     "metadata": {
      "needs_background": "light"
     },
     "output_type": "display_data"
    }
   ],
   "source": [
    "# Let's check the target variable by plotting fraud_reported\n",
    "sns.countplot(df['fraud_reported']);"
   ]
  },
  {
   "cell_type": "code",
   "execution_count": 16,
   "metadata": {},
   "outputs": [
    {
     "data": {
      "text/plain": [
       "N    753\n",
       "Y    247\n",
       "Name: fraud_reported, dtype: int64"
      ]
     },
     "execution_count": 16,
     "metadata": {},
     "output_type": "execute_result"
    }
   ],
   "source": [
    "# Count the fraud_reported\n",
    "df['fraud_reported'].value_counts()"
   ]
  },
  {
   "attachments": {},
   "cell_type": "markdown",
   "metadata": {},
   "source": [
    "There is a considerable difference between the fraud and non-fraud claims, but is expected given the nature of these events."
   ]
  },
  {
   "cell_type": "code",
   "execution_count": 17,
   "metadata": {},
   "outputs": [
    {
     "data": {
      "image/png": "[encoded data removed]",
      "text/plain": [
       "<Figure size 432x288 with 1 Axes>"
      ]
     },
     "metadata": {
      "needs_background": "light"
     },
     "output_type": "display_data"
    }
   ],
   "source": [
    "# Histogram of total claim amount\n",
    "sns.distplot(df['total_claim_amount']);"
   ]
  },
  {
   "cell_type": "code",
   "execution_count": 18,
   "metadata": {},
   "outputs": [
    {
     "data": {
      "text/plain": [
       "SC    73\n",
       "NY    58\n",
       "WV    39\n",
       "NC    34\n",
       "VA    25\n",
       "OH    10\n",
       "PA     8\n",
       "Name: incident_state, dtype: int64"
      ]
     },
     "execution_count": 18,
     "metadata": {},
     "output_type": "execute_result"
    }
   ],
   "source": [
    "# Count fraud by Incident State, for Y fraud_reported\n",
    "df[df['fraud_reported']=='Y']['incident_state'].value_counts()"
   ]
  },
  {
   "cell_type": "code",
   "execution_count": 19,
   "metadata": {},
   "outputs": [
    {
     "data": {
      "application/vnd.plotly.v1+json": {
       "config": {
        "plotlyServerURL": "https://plot.ly"
       },
       "data": [
        {
         "colorbar": {
          "title": {
           "text": "Fraud Reported"
          }
         },
         "colorscale": [
          [
           0,
           "rgb(247,251,255)"
          ],
          [
           0.125,
           "rgb(222,235,247)"
          ],
          [
           0.25,
           "rgb(198,219,239)"
          ],
          [
           0.375,
           "rgb(158,202,225)"
          ],
          [
           0.5,
           "rgb(107,174,214)"
          ],
          [
           0.625,
           "rgb(66,146,198)"
          ],
          [
           0.75,
           "rgb(33,113,181)"
          ],
          [
           0.875,
           "rgb(8,81,156)"
          ],
          [
           1,
           "rgb(8,48,107)"
          ]
         ],
         "locationmode": "USA-states",
         "locations": [
          "SC",
          "NY",
          "WV",
          "NC",
          "VA",
          "OH",
          "PA"
         ],
         "type": "choropleth",
         "z": [
          73,
          58,
          39,
          34,
          25,
          10,
          8
         ]
        }
       ],
       "layout": {
        "geo": {
         "scope": "usa"
        },
        "template": {
         "data": {
          "bar": [
           {
            "error_x": {
             "color": "#2a3f5f"
            },
            "error_y": {
             "color": "#2a3f5f"
            },
            "marker": {
             "line": {
              "color": "#E5ECF6",
              "width": 0.5
             },
             "pattern": {
              "fillmode": "overlay",
              "size": 10,
              "solidity": 0.2
             }
            },
            "type": "bar"
           }
          ],
          "barpolar": [
           {
            "marker": {
             "line": {
              "color": "#E5ECF6",
              "width": 0.5
             },
             "pattern": {
              "fillmode": "overlay",
              "size": 10,
              "solidity": 0.2
             }
            },
            "type": "barpolar"
           }
          ],
          "carpet": [
           {
            "aaxis": {
             "endlinecolor": "#2a3f5f",
             "gridcolor": "white",
             "linecolor": "white",
             "minorgridcolor": "white",
             "startlinecolor": "#2a3f5f"
            },
            "baxis": {
             "endlinecolor": "#2a3f5f",
             "gridcolor": "white",
             "linecolor": "white",
             "minorgridcolor": "white",
             "startlinecolor": "#2a3f5f"
            },
            "type": "carpet"
           }
          ],
          "choropleth": [
           {
            "colorbar": {
             "outlinewidth": 0,
             "ticks": ""
            },
            "type": "choropleth"
           }
          ],
          "contour": [
           {
            "colorbar": {
             "outlinewidth": 0,
             "ticks": ""
            },
            "colorscale": [
             [
              0,
              "#0d0887"
             ],
             [
              0.1111111111111111,
              "#46039f"
             ],
             [
              0.2222222222222222,
              "#7201a8"
             ],
             [
              0.3333333333333333,
              "#9c179e"
             ],
             [
              0.4444444444444444,
              "#bd3786"
             ],
             [
              0.5555555555555556,
              "#d8576b"
             ],
             [
              0.6666666666666666,
              "#ed7953"
             ],
             [
              0.7777777777777778,
              "#fb9f3a"
             ],
             [
              0.8888888888888888,
              "#fdca26"
             ],
             [
              1,
              "#f0f921"
             ]
            ],
            "type": "contour"
           }
          ],
          "contourcarpet": [
           {
            "colorbar": {
             "outlinewidth": 0,
             "ticks": ""
            },
            "type": "contourcarpet"
           }
          ],
          "heatmap": [
           {
            "colorbar": {
             "outlinewidth": 0,
             "ticks": ""
            },
            "colorscale": [
             [
              0,
              "#0d0887"
             ],
             [
              0.1111111111111111,
              "#46039f"
             ],
             [
              0.2222222222222222,
              "#7201a8"
             ],
             [
              0.3333333333333333,
              "#9c179e"
             ],
             [
              0.4444444444444444,
              "#bd3786"
             ],
             [
              0.5555555555555556,
              "#d8576b"
             ],
             [
              0.6666666666666666,
              "#ed7953"
             ],
             [
              0.7777777777777778,
              "#fb9f3a"
             ],
             [
              0.8888888888888888,
              "#fdca26"
             ],
             [
              1,
              "#f0f921"
             ]
            ],
            "type": "heatmap"
           }
          ],
          "heatmapgl": [
           {
            "colorbar": {
             "outlinewidth": 0,
             "ticks": ""
            },
            "colorscale": [
             [
              0,
              "#0d0887"
             ],
             [
              0.1111111111111111,
              "#46039f"
             ],
             [
              0.2222222222222222,
              "#7201a8"
             ],
             [
              0.3333333333333333,
              "#9c179e"
             ],
             [
              0.4444444444444444,
              "#bd3786"
             ],
             [
              0.5555555555555556,
              "#d8576b"
             ],
             [
              0.6666666666666666,
              "#ed7953"
             ],
             [
              0.7777777777777778,
              "#fb9f3a"
             ],
             [
              0.8888888888888888,
              "#fdca26"
             ],
             [
              1,
              "#f0f921"
             ]
            ],
            "type": "heatmapgl"
           }
          ],
          "histogram": [
           {
            "marker": {
             "pattern": {
              "fillmode": "overlay",
              "size": 10,
              "solidity": 0.2
             }
            },
            "type": "histogram"
           }
          ],
          "histogram2d": [
           {
            "colorbar": {
             "outlinewidth": 0,
             "ticks": ""
            },
            "colorscale": [
             [
              0,
              "#0d0887"
             ],
             [
              0.1111111111111111,
              "#46039f"
             ],
             [
              0.2222222222222222,
              "#7201a8"
             ],
             [
              0.3333333333333333,
              "#9c179e"
             ],
             [
              0.4444444444444444,
              "#bd3786"
             ],
             [
              0.5555555555555556,
              "#d8576b"
             ],
             [
              0.6666666666666666,
              "#ed7953"
             ],
             [
              0.7777777777777778,
              "#fb9f3a"
             ],
             [
              0.8888888888888888,
              "#fdca26"
             ],
             [
              1,
              "#f0f921"
             ]
            ],
            "type": "histogram2d"
           }
          ],
          "histogram2dcontour": [
           {
            "colorbar": {
             "outlinewidth": 0,
             "ticks": ""
            },
            "colorscale": [
             [
              0,
              "#0d0887"
             ],
             [
              0.1111111111111111,
              "#46039f"
             ],
             [
              0.2222222222222222,
              "#7201a8"
             ],
             [
              0.3333333333333333,
              "#9c179e"
             ],
             [
              0.4444444444444444,
              "#bd3786"
             ],
             [
              0.5555555555555556,
              "#d8576b"
             ],
             [
              0.6666666666666666,
              "#ed7953"
             ],
             [
              0.7777777777777778,
              "#fb9f3a"
             ],
             [
              0.8888888888888888,
              "#fdca26"
             ],
             [
              1,
              "#f0f921"
             ]
            ],
            "type": "histogram2dcontour"
           }
          ],
          "mesh3d": [
           {
            "colorbar": {
             "outlinewidth": 0,
             "ticks": ""
            },
            "type": "mesh3d"
           }
          ],
          "parcoords": [
           {
            "line": {
             "colorbar": {
              "outlinewidth": 0,
              "ticks": ""
             }
            },
            "type": "parcoords"
           }
          ],
          "pie": [
           {
            "automargin": true,
            "type": "pie"
           }
          ],
          "scatter": [
           {
            "marker": {
             "colorbar": {
              "outlinewidth": 0,
              "ticks": ""
             }
            },
            "type": "scatter"
           }
          ],
          "scatter3d": [
           {
            "line": {
             "colorbar": {
              "outlinewidth": 0,
              "ticks": ""
             }
            },
            "marker": {
             "colorbar": {
              "outlinewidth": 0,
              "ticks": ""
             }
            },
            "type": "scatter3d"
           }
          ],
          "scattercarpet": [
           {
            "marker": {
             "colorbar": {
              "outlinewidth": 0,
              "ticks": ""
             }
            },
            "type": "scattercarpet"
           }
          ],
          "scattergeo": [
           {
            "marker": {
             "colorbar": {
              "outlinewidth": 0,
              "ticks": ""
             }
            },
            "type": "scattergeo"
           }
          ],
          "scattergl": [
           {
            "marker": {
             "colorbar": {
              "outlinewidth": 0,
              "ticks": ""
             }
            },
            "type": "scattergl"
           }
          ],
          "scattermapbox": [
           {
            "marker": {
             "colorbar": {
              "outlinewidth": 0,
              "ticks": ""
             }
            },
            "type": "scattermapbox"
           }
          ],
          "scatterpolar": [
           {
            "marker": {
             "colorbar": {
              "outlinewidth": 0,
              "ticks": ""
             }
            },
            "type": "scatterpolar"
           }
          ],
          "scatterpolargl": [
           {
            "marker": {
             "colorbar": {
              "outlinewidth": 0,
              "ticks": ""
             }
            },
            "type": "scatterpolargl"
           }
          ],
          "scatterternary": [
           {
            "marker": {
             "colorbar": {
              "outlinewidth": 0,
              "ticks": ""
             }
            },
            "type": "scatterternary"
           }
          ],
          "surface": [
           {
            "colorbar": {
             "outlinewidth": 0,
             "ticks": ""
            },
            "colorscale": [
             [
              0,
              "#0d0887"
             ],
             [
              0.1111111111111111,
              "#46039f"
             ],
             [
              0.2222222222222222,
              "#7201a8"
             ],
             [
              0.3333333333333333,
              "#9c179e"
             ],
             [
              0.4444444444444444,
              "#bd3786"
             ],
             [
              0.5555555555555556,
              "#d8576b"
             ],
             [
              0.6666666666666666,
              "#ed7953"
             ],
             [
              0.7777777777777778,
              "#fb9f3a"
             ],
             [
              0.8888888888888888,
              "#fdca26"
             ],
             [
              1,
              "#f0f921"
             ]
            ],
            "type": "surface"
           }
          ],
          "table": [
           {
            "cells": {
             "fill": {
              "color": "#EBF0F8"
             },
             "line": {
              "color": "white"
             }
            },
            "header": {
             "fill": {
              "color": "#C8D4E3"
             },
             "line": {
              "color": "white"
             }
            },
            "type": "table"
           }
          ]
         },
         "layout": {
          "annotationdefaults": {
           "arrowcolor": "#2a3f5f",
           "arrowhead": 0,
           "arrowwidth": 1
          },
          "autotypenumbers": "strict",
          "coloraxis": {
           "colorbar": {
            "outlinewidth": 0,
            "ticks": ""
           }
          },
          "colorscale": {
           "diverging": [
            [
             0,
             "#8e0152"
            ],
            [
             0.1,
             "#c51b7d"
            ],
            [
             0.2,
             "#de77ae"
            ],
            [
             0.3,
             "#f1b6da"
            ],
            [
             0.4,
             "#fde0ef"
            ],
            [
             0.5,
             "#f7f7f7"
            ],
            [
             0.6,
             "#e6f5d0"
            ],
            [
             0.7,
             "#b8e186"
            ],
            [
             0.8,
             "#7fbc41"
            ],
            [
             0.9,
             "#4d9221"
            ],
            [
             1,
             "#276419"
            ]
           ],
           "sequential": [
            [
             0,
             "#0d0887"
            ],
            [
             0.1111111111111111,
             "#46039f"
            ],
            [
             0.2222222222222222,
             "#7201a8"
            ],
            [
             0.3333333333333333,
             "#9c179e"
            ],
            [
             0.4444444444444444,
             "#bd3786"
            ],
            [
             0.5555555555555556,
             "#d8576b"
            ],
            [
             0.6666666666666666,
             "#ed7953"
            ],
            [
             0.7777777777777778,
             "#fb9f3a"
            ],
            [
             0.8888888888888888,
             "#fdca26"
            ],
            [
             1,
             "#f0f921"
            ]
           ],
           "sequentialminus": [
            [
             0,
             "#0d0887"
            ],
            [
             0.1111111111111111,
             "#46039f"
            ],
            [
             0.2222222222222222,
             "#7201a8"
            ],
            [
             0.3333333333333333,
             "#9c179e"
            ],
            [
             0.4444444444444444,
             "#bd3786"
            ],
            [
             0.5555555555555556,
             "#d8576b"
            ],
            [
             0.6666666666666666,
             "#ed7953"
            ],
            [
             0.7777777777777778,
             "#fb9f3a"
            ],
            [
             0.8888888888888888,
             "#fdca26"
            ],
            [
             1,
             "#f0f921"
            ]
           ]
          },
          "colorway": [
           "#636efa",
           "#EF553B",
           "#00cc96",
           "#ab63fa",
           "#FFA15A",
           "#19d3f3",
           "#FF6692",
           "#B6E880",
           "#FF97FF",
           "#FECB52"
          ],
          "font": {
           "color": "#2a3f5f"
          },
          "geo": {
           "bgcolor": "white",
           "lakecolor": "white",
           "landcolor": "#E5ECF6",
           "showlakes": true,
           "showland": true,
           "subunitcolor": "white"
          },
          "hoverlabel": {
           "align": "left"
          },
          "hovermode": "closest",
          "mapbox": {
           "style": "light"
          },
          "paper_bgcolor": "white",
          "plot_bgcolor": "#E5ECF6",
          "polar": {
           "angularaxis": {
            "gridcolor": "white",
            "linecolor": "white",
            "ticks": ""
           },
           "bgcolor": "#E5ECF6",
           "radialaxis": {
            "gridcolor": "white",
            "linecolor": "white",
            "ticks": ""
           }
          },
          "scene": {
           "xaxis": {
            "backgroundcolor": "#E5ECF6",
            "gridcolor": "white",
            "gridwidth": 2,
            "linecolor": "white",
            "showbackground": true,
            "ticks": "",
            "zerolinecolor": "white"
           },
           "yaxis": {
            "backgroundcolor": "#E5ECF6",
            "gridcolor": "white",
            "gridwidth": 2,
            "linecolor": "white",
            "showbackground": true,
            "ticks": "",
            "zerolinecolor": "white"
           },
           "zaxis": {
            "backgroundcolor": "#E5ECF6",
            "gridcolor": "white",
            "gridwidth": 2,
            "linecolor": "white",
            "showbackground": true,
            "ticks": "",
            "zerolinecolor": "white"
           }
          },
          "shapedefaults": {
           "line": {
            "color": "#2a3f5f"
           }
          },
          "ternary": {
           "aaxis": {
            "gridcolor": "white",
            "linecolor": "white",
            "ticks": ""
           },
           "baxis": {
            "gridcolor": "white",
            "linecolor": "white",
            "ticks": ""
           },
           "bgcolor": "#E5ECF6",
           "caxis": {
            "gridcolor": "white",
            "linecolor": "white",
            "ticks": ""
           }
          },
          "title": {
           "x": 0.05
          },
          "xaxis": {
           "automargin": true,
           "gridcolor": "white",
           "linecolor": "white",
           "ticks": "",
           "title": {
            "standoff": 15
           },
           "zerolinecolor": "white",
           "zerolinewidth": 2
          },
          "yaxis": {
           "automargin": true,
           "gridcolor": "white",
           "linecolor": "white",
           "ticks": "",
           "title": {
            "standoff": 15
           },
           "zerolinecolor": "white",
           "zerolinewidth": 2
          }
         }
        },
        "title": {
         "text": "Fraud Reported by State"
        }
       }
      }
     },
     "metadata": {},
     "output_type": "display_data"
    }
   ],
   "source": [
    "# Using a USA map to plot the count of fraud_reported = Y by state, color by number of fraud_reported\n",
    "\n",
    "# Import the required libraries\n",
    "import plotly.express as px\n",
    "import plotly.graph_objects as go\n",
    "\n",
    "# Create a dataframe with the count of fraud_reported = Y by state\n",
    "df_state=df[df['fraud_reported']=='Y']['incident_state'].value_counts().reset_index()\n",
    "df_state.columns=['state','count']\n",
    "\n",
    "# Create a USA map\n",
    "fig = go.Figure(data=go.Choropleth(\n",
    "    locations=df_state['state'], # Spatial coordinates\n",
    "    z = df_state['count'].astype(float), # Data to be color-coded\n",
    "    locationmode = 'USA-states', # set of locations match entries in `locations`\n",
    "    colorscale = 'Blues',\n",
    "    colorbar_title = \"Fraud Reported\",\n",
    "))\n",
    "\n",
    "fig.update_layout(\n",
    "    title_text = 'Fraud Reported by State',\n",
    "    geo_scope='usa', # limite map scope to USA\n",
    ")\n",
    "\n",
    "fig.show();"
   ]
  },
  {
   "cell_type": "code",
   "execution_count": 20,
   "metadata": {},
   "outputs": [
    {
     "data": {
      "image/png": "[encoded data removed]",
      "text/plain": [
       "<Figure size 432x288 with 1 Axes>"
      ]
     },
     "metadata": {
      "needs_background": "light"
     },
     "output_type": "display_data"
    }
   ],
   "source": [
    "# Plot Breakdown of insuranced education claim group by fraud_reported\n",
    "sns.countplot(df['insured_education_level'],hue=df['fraud_reported']);"
   ]
  },
  {
   "cell_type": "code",
   "execution_count": 21,
   "metadata": {},
   "outputs": [
    {
     "data": {
      "image/png": "[encoded data removed]",
      "text/plain": [
       "<Figure size 432x288 with 1 Axes>"
      ]
     },
     "metadata": {
      "needs_background": "light"
     },
     "output_type": "display_data"
    }
   ],
   "source": [
    "# Bin the age column group by fraud_reported\n",
    "df['age_bin']=pd.cut(df['age'],bins=[0,20,40,60,80,100],labels=['0-20','20-40','40-60','60-80','80-100'])\n",
    "\n",
    "# Plot Breakdown of insuranced age claim group by fraud_reported\n",
    "sns.countplot(df['age_bin'],hue=df['fraud_reported']);  "
   ]
  },
  {
   "cell_type": "code",
   "execution_count": 22,
   "metadata": {},
   "outputs": [
    {
     "data": {
      "image/png": "[encoded data removed]",
      "text/plain": [
       "<Figure size 432x288 with 1 Axes>"
      ]
     },
     "metadata": {
      "needs_background": "light"
     },
     "output_type": "display_data"
    }
   ],
   "source": [
    "# Bin the months_as_customer column group by fraud_reported\n",
    "df['months_as_customer_bin']=pd.cut(df['months_as_customer'],bins=[0,100,200,300,400,500],labels=['0-100','100-200','200-300','300-400','400-500'])\n",
    "\n",
    "# Plot Breakdown of insuranced months_as_customer claim group by fraud_reported\n",
    "sns.countplot(df['months_as_customer_bin'],hue=df['fraud_reported']);"
   ]
  },
  {
   "attachments": {},
   "cell_type": "markdown",
   "metadata": {},
   "source": [
    "# Data Preprocessing"
   ]
  },
  {
   "attachments": {},
   "cell_type": "markdown",
   "metadata": {},
   "source": [
    "Considering the for non-numerical variables we will have to generate dummy variables, let's drop the high volume distinct values variables. Let's also add incident date given the is a time series variable."
   ]
  },
  {
   "cell_type": "code",
   "execution_count": 23,
   "metadata": {},
   "outputs": [],
   "source": [
    "cols_to_drop=['policy_number','incident_location','policy_bind_date', 'insured_zip', 'incident_date', 'age_bin', 'months_as_customer_bin']"
   ]
  },
  {
   "cell_type": "code",
   "execution_count": 24,
   "metadata": {},
   "outputs": [],
   "source": [
    "# Excluse the cols_to_drop from the cat_cols list\n",
    "cat_cols=[i for i in cat_cols if i not in cols_to_drop]"
   ]
  },
  {
   "cell_type": "code",
   "execution_count": 25,
   "metadata": {},
   "outputs": [],
   "source": [
    "# Drop the columns\n",
    "df.drop(cols_to_drop,axis=1,inplace=True)"
   ]
  },
  {
   "cell_type": "code",
   "execution_count": 26,
   "metadata": {},
   "outputs": [
    {
     "data": {
      "text/plain": [
       "policy_state               object\n",
       "policy_csl                 object\n",
       "insured_sex                object\n",
       "insured_education_level    object\n",
       "insured_occupation         object\n",
       "insured_hobbies            object\n",
       "insured_relationship       object\n",
       "incident_type              object\n",
       "collision_type             object\n",
       "incident_severity          object\n",
       "authorities_contacted      object\n",
       "incident_state             object\n",
       "incident_city              object\n",
       "property_damage            object\n",
       "police_report_available    object\n",
       "auto_make                  object\n",
       "auto_model                 object\n",
       "fraud_reported             object\n",
       "dtype: object"
      ]
     },
     "execution_count": 26,
     "metadata": {},
     "output_type": "execute_result"
    }
   ],
   "source": [
    "# Print the types of the cat_cols\n",
    "df[cat_cols].dtypes"
   ]
  },
  {
   "cell_type": "code",
   "execution_count": 27,
   "metadata": {},
   "outputs": [],
   "source": [
    "# Conver the cat_cols to object type\n",
    "df[cat_cols]=df[cat_cols].astype('string')"
   ]
  },
  {
   "cell_type": "code",
   "execution_count": 28,
   "metadata": {},
   "outputs": [],
   "source": [
    "# Set the column of cat_cols as factors\n",
    "for i in cat_cols:\n",
    "    df[i]=df[i].astype('category')        "
   ]
  },
  {
   "cell_type": "code",
   "execution_count": 30,
   "metadata": {},
   "outputs": [],
   "source": [
    "# Replace the nan values with mode\n",
    "for i in cat_cols:\n",
    "    df[i].fillna(df[i].mode()[0],inplace=True)"
   ]
  },
  {
   "cell_type": "code",
   "execution_count": 31,
   "metadata": {},
   "outputs": [
    {
     "data": {
      "text/html": [
       "<div>\n",
       "<style scoped>\n",
       "    .dataframe tbody tr th:only-of-type {\n",
       "        vertical-align: middle;\n",
       "    }\n",
       "\n",
       "    .dataframe tbody tr th {\n",
       "        vertical-align: top;\n",
       "    }\n",
       "\n",
       "    .dataframe thead th {\n",
       "        text-align: right;\n",
       "    }\n",
       "</style>\n",
       "<table border=\"1\" class=\"dataframe\">\n",
       "  <thead>\n",
       "    <tr style=\"text-align: right;\">\n",
       "      <th></th>\n",
       "      <th>months_as_customer</th>\n",
       "      <th>age</th>\n",
       "      <th>policy_state</th>\n",
       "      <th>policy_csl</th>\n",
       "      <th>policy_deductable</th>\n",
       "      <th>policy_annual_premium</th>\n",
       "      <th>umbrella_limit</th>\n",
       "      <th>insured_sex</th>\n",
       "      <th>insured_education_level</th>\n",
       "      <th>insured_occupation</th>\n",
       "      <th>...</th>\n",
       "      <th>witnesses</th>\n",
       "      <th>police_report_available</th>\n",
       "      <th>total_claim_amount</th>\n",
       "      <th>injury_claim</th>\n",
       "      <th>property_claim</th>\n",
       "      <th>vehicle_claim</th>\n",
       "      <th>auto_make</th>\n",
       "      <th>auto_model</th>\n",
       "      <th>auto_year</th>\n",
       "      <th>fraud_reported</th>\n",
       "    </tr>\n",
       "  </thead>\n",
       "  <tbody>\n",
       "    <tr>\n",
       "      <th>0</th>\n",
       "      <td>328</td>\n",
       "      <td>48</td>\n",
       "      <td>2</td>\n",
       "      <td>1</td>\n",
       "      <td>1000</td>\n",
       "      <td>1406.91</td>\n",
       "      <td>0</td>\n",
       "      <td>1</td>\n",
       "      <td>4</td>\n",
       "      <td>2</td>\n",
       "      <td>...</td>\n",
       "      <td>2</td>\n",
       "      <td>1</td>\n",
       "      <td>71610</td>\n",
       "      <td>6510</td>\n",
       "      <td>13020</td>\n",
       "      <td>52080</td>\n",
       "      <td>10</td>\n",
       "      <td>1</td>\n",
       "      <td>2004</td>\n",
       "      <td>1</td>\n",
       "    </tr>\n",
       "    <tr>\n",
       "      <th>1</th>\n",
       "      <td>228</td>\n",
       "      <td>42</td>\n",
       "      <td>1</td>\n",
       "      <td>1</td>\n",
       "      <td>2000</td>\n",
       "      <td>1197.22</td>\n",
       "      <td>5000000</td>\n",
       "      <td>1</td>\n",
       "      <td>4</td>\n",
       "      <td>6</td>\n",
       "      <td>...</td>\n",
       "      <td>0</td>\n",
       "      <td>0</td>\n",
       "      <td>5070</td>\n",
       "      <td>780</td>\n",
       "      <td>780</td>\n",
       "      <td>3510</td>\n",
       "      <td>8</td>\n",
       "      <td>12</td>\n",
       "      <td>2007</td>\n",
       "      <td>1</td>\n",
       "    </tr>\n",
       "    <tr>\n",
       "      <th>2</th>\n",
       "      <td>134</td>\n",
       "      <td>29</td>\n",
       "      <td>2</td>\n",
       "      <td>0</td>\n",
       "      <td>2000</td>\n",
       "      <td>1413.14</td>\n",
       "      <td>5000000</td>\n",
       "      <td>0</td>\n",
       "      <td>6</td>\n",
       "      <td>11</td>\n",
       "      <td>...</td>\n",
       "      <td>3</td>\n",
       "      <td>0</td>\n",
       "      <td>34650</td>\n",
       "      <td>7700</td>\n",
       "      <td>3850</td>\n",
       "      <td>23100</td>\n",
       "      <td>4</td>\n",
       "      <td>30</td>\n",
       "      <td>2007</td>\n",
       "      <td>0</td>\n",
       "    </tr>\n",
       "    <tr>\n",
       "      <th>3</th>\n",
       "      <td>256</td>\n",
       "      <td>41</td>\n",
       "      <td>0</td>\n",
       "      <td>1</td>\n",
       "      <td>2000</td>\n",
       "      <td>1415.74</td>\n",
       "      <td>6000000</td>\n",
       "      <td>0</td>\n",
       "      <td>6</td>\n",
       "      <td>1</td>\n",
       "      <td>...</td>\n",
       "      <td>2</td>\n",
       "      <td>0</td>\n",
       "      <td>63400</td>\n",
       "      <td>6340</td>\n",
       "      <td>6340</td>\n",
       "      <td>50720</td>\n",
       "      <td>3</td>\n",
       "      <td>34</td>\n",
       "      <td>2014</td>\n",
       "      <td>1</td>\n",
       "    </tr>\n",
       "    <tr>\n",
       "      <th>4</th>\n",
       "      <td>228</td>\n",
       "      <td>44</td>\n",
       "      <td>0</td>\n",
       "      <td>2</td>\n",
       "      <td>1000</td>\n",
       "      <td>1583.91</td>\n",
       "      <td>6000000</td>\n",
       "      <td>1</td>\n",
       "      <td>0</td>\n",
       "      <td>11</td>\n",
       "      <td>...</td>\n",
       "      <td>1</td>\n",
       "      <td>0</td>\n",
       "      <td>6500</td>\n",
       "      <td>1300</td>\n",
       "      <td>650</td>\n",
       "      <td>4550</td>\n",
       "      <td>0</td>\n",
       "      <td>31</td>\n",
       "      <td>2009</td>\n",
       "      <td>0</td>\n",
       "    </tr>\n",
       "  </tbody>\n",
       "</table>\n",
       "<p>5 rows × 34 columns</p>\n",
       "</div>"
      ],
      "text/plain": [
       "   months_as_customer  age  policy_state  policy_csl  policy_deductable  \\\n",
       "0                 328   48             2           1               1000   \n",
       "1                 228   42             1           1               2000   \n",
       "2                 134   29             2           0               2000   \n",
       "3                 256   41             0           1               2000   \n",
       "4                 228   44             0           2               1000   \n",
       "\n",
       "   policy_annual_premium  umbrella_limit  insured_sex  \\\n",
       "0                1406.91               0            1   \n",
       "1                1197.22         5000000            1   \n",
       "2                1413.14         5000000            0   \n",
       "3                1415.74         6000000            0   \n",
       "4                1583.91         6000000            1   \n",
       "\n",
       "   insured_education_level  insured_occupation  ...  witnesses  \\\n",
       "0                        4                   2  ...          2   \n",
       "1                        4                   6  ...          0   \n",
       "2                        6                  11  ...          3   \n",
       "3                        6                   1  ...          2   \n",
       "4                        0                  11  ...          1   \n",
       "\n",
       "   police_report_available  total_claim_amount  injury_claim  property_claim  \\\n",
       "0                        1               71610          6510           13020   \n",
       "1                        0                5070           780             780   \n",
       "2                        0               34650          7700            3850   \n",
       "3                        0               63400          6340            6340   \n",
       "4                        0                6500          1300             650   \n",
       "\n",
       "   vehicle_claim  auto_make  auto_model  auto_year  fraud_reported  \n",
       "0          52080         10           1       2004               1  \n",
       "1           3510          8          12       2007               1  \n",
       "2          23100          4          30       2007               0  \n",
       "3          50720          3          34       2014               1  \n",
       "4           4550          0          31       2009               0  \n",
       "\n",
       "[5 rows x 34 columns]"
      ]
     },
     "execution_count": 31,
     "metadata": {},
     "output_type": "execute_result"
    }
   ],
   "source": [
    "# Convert the categorical columns to numeric to pass them using string indexer\n",
    "cat_cols=df.select_dtypes(exclude=np.number).columns.tolist()\n",
    "cat_cols\n",
    "\n",
    "# Create a function to convert the categorical columns to numeric\n",
    "def string_indexer(df,cols):\n",
    "    for col in cols:\n",
    "        le=LabelEncoder()\n",
    "        df[col]=le.fit_transform(df[col])\n",
    "    return df\n",
    "\n",
    "# Apply the function to the categorical columns\n",
    "df_indexed=string_indexer(df,cat_cols)\n",
    "\n",
    "# Preview the data\n",
    "df_indexed.head()"
   ]
  },
  {
   "attachments": {},
   "cell_type": "markdown",
   "metadata": {},
   "source": [
    "# GLM - Gamma Regression for Claim Amount Prediction"
   ]
  },
  {
   "attachments": {},
   "cell_type": "markdown",
   "metadata": {},
   "source": [
    "The purpose of the following section is to generate a prediction model for the claim amount. The model will be based on a Gamma Regression, which is a generalized linear model (GLM) for predicting continuous positive variables.\n",
    "\n",
    "As a business problem, insurance companies need to be able to predict the claim amount in order to set the premium for the policy. The premium is the amount of money that the policy holder pays to the insurance company in order to be covered. As other option, the interest to predict claim amount might be rooted on the need to predict the amount of money that the insurance company will have to pay to the policy holder, in a case of a claim, so the company can set aside the resources to react to the claim."
   ]
  },
  {
   "cell_type": "code",
   "execution_count": 33,
   "metadata": {},
   "outputs": [],
   "source": [
    "# Import the sklearn required libraries\n",
    "from sklearn.linear_model import GammaRegressor\n",
    "from sklearn.preprocessing import StandardScaler     \n",
    "from sklearn.model_selection import train_test_split"
   ]
  },
  {
   "cell_type": "code",
   "execution_count": 47,
   "metadata": {},
   "outputs": [
    {
     "name": "stdout",
     "output_type": "stream",
     "text": [
      "Mean Squared Error: 116374358.92575014\n"
     ]
    }
   ],
   "source": [
    "# Load the data and split into train and test sets\n",
    "X = df_indexed.drop('total_claim_amount', axis=1)\n",
    "y = df_indexed['total_claim_amount']\n",
    "\n",
    "# Scale the predictor variables\n",
    "scaler = StandardScaler()\n",
    "X_scaled = scaler.fit_transform(X)\n",
    "\n",
    "# Split the data into training and test sets\n",
    "X_train, X_test, y_train, y_test = train_test_split(X_scaled, y, test_size=0.4, random_state=42)\n",
    "\n",
    "# Create a gamma regression model\n",
    "gamma_model = GammaRegressor()\n",
    "\n",
    "# Fit the model on the training data\n",
    "gamma_model.fit(X_train, y_train)\n",
    "\n",
    "# Make predictions on the test data\n",
    "y_pred = gamma_model.predict(X_test)"
   ]
  },
  {
   "cell_type": "code",
   "execution_count": 49,
   "metadata": {},
   "outputs": [],
   "source": [
    "# Import the performance metrics library\n",
    "from sklearn.metrics import mean_squared_error, r2_score, mean_absolute_error"
   ]
  },
  {
   "cell_type": "code",
   "execution_count": 51,
   "metadata": {},
   "outputs": [
    {
     "name": "stdout",
     "output_type": "stream",
     "text": [
      "R2 Score: 0.8286642792363856\n",
      "MAE: 9110.823275061093\n",
      "MSE: 116374358.9257501\n",
      "Adjusted R2: 0.6368596131291319\n"
     ]
    }
   ],
   "source": [
    "# Calculate the Model Performance Metrics\n",
    "print('R2 Score:', r2_score(y_test, y_pred))\n",
    "print('MAE:', mean_absolute_error(y_test, y_pred))\n",
    "print('MSE:', mean_squared_error(y_test, y_pred))\n",
    "\n",
    "# Create a function to calculate the adjusted R2\n",
    "def adj_r2(X,y):\n",
    "    r2 = gamma_model.score(X,y)\n",
    "    n = X.shape[0]\n",
    "    p = X.shape[1]\n",
    "    adjusted_r2 = 1-(1-r2)*(n-1)/(n-p-1)\n",
    "    return adjusted_r2\n",
    "\n",
    "# Calculate the adjusted R2\n",
    "print('Adjusted R2:', adj_r2(X_test, y_test))"
   ]
  },
  {
   "attachments": {},
   "cell_type": "markdown",
   "metadata": {},
   "source": [
    "The model performance metrics suggest that the gamma regression model is a good fit for the data, with an R2 score of 0.83 indicating that the model explains approximately 83% of the variance in the claim amount. \n",
    "\n",
    "However, the model's predictions are off by an average of $9,110.82, as indicated by the mean absolute error (MAE) of 9110.82. \n",
    "\n",
    "Additionally, the mean squared error (MSE) of 116,374,358.93 suggests that the model's predictions have a larger spread of errors compared to the MAE. \n",
    "\n",
    "Finally, the adjusted R2 of 0.637 indicates that the model's performance may be slightly impacted by the number of predictor variables used. Overall, the results suggest that the gamma regression model is a good starting point for predicting claim amount, but there may be room for improvement with further model refinement."
   ]
  },
  {
   "attachments": {},
   "cell_type": "markdown",
   "metadata": {},
   "source": [
    "## Feature Selection"
   ]
  },
  {
   "attachments": {},
   "cell_type": "markdown",
   "metadata": {},
   "source": [
    "The Gamma model had a considerable amount of variables, for efficiency purposes, and better understanding of the most important variables, we will proceed to generate feature selection through backward elimination."
   ]
  },
  {
   "cell_type": "code",
   "execution_count": 52,
   "metadata": {},
   "outputs": [
    {
     "name": "stdout",
     "output_type": "stream",
     "text": [
      "Number of variables in the model: 33\n"
     ]
    }
   ],
   "source": [
    "# Count the variables in the model\n",
    "print('Number of variables in the model:', len(gamma_model.coef_))"
   ]
  },
  {
   "cell_type": "code",
   "execution_count": 57,
   "metadata": {},
   "outputs": [
    {
     "name": "stdout",
     "output_type": "stream",
     "text": [
      "Fitting estimator with 33 features.\n",
      "Fitting estimator with 32 features.\n",
      "Fitting estimator with 31 features.\n",
      "Fitting estimator with 30 features.\n",
      "Fitting estimator with 29 features.\n",
      "Fitting estimator with 28 features.\n",
      "Fitting estimator with 27 features.\n",
      "Fitting estimator with 26 features.\n",
      "Fitting estimator with 25 features.\n",
      "Fitting estimator with 24 features.\n",
      "Fitting estimator with 23 features.\n",
      "Fitting estimator with 22 features.\n",
      "Fitting estimator with 21 features.\n",
      "Fitting estimator with 20 features.\n",
      "Fitting estimator with 19 features.\n",
      "Fitting estimator with 18 features.\n",
      "Fitting estimator with 17 features.\n",
      "Fitting estimator with 16 features.\n",
      "Fitting estimator with 15 features.\n",
      "Fitting estimator with 14 features.\n",
      "Fitting estimator with 13 features.\n",
      "Fitting estimator with 12 features.\n",
      "Fitting estimator with 11 features.\n"
     ]
    },
    {
     "data": {
      "text/plain": [
       "RFE(estimator=GammaRegressor(), n_features_to_select=10, verbose=1)"
      ]
     },
     "execution_count": 57,
     "metadata": {},
     "output_type": "execute_result"
    }
   ],
   "source": [
    "# Perform a backward feature selection through recursive feature elimination\n",
    "from sklearn.feature_selection import RFE\n",
    "\n",
    "# Create the RFE with a gamma regression estimator and 10 features to select\n",
    "rfe = RFE(estimator=GammaRegressor(), n_features_to_select=10, verbose=1)\n",
    "\n",
    "# Fit the eliminator to the data\n",
    "rfe.fit(X_scaled, y)"
   ]
  },
  {
   "cell_type": "code",
   "execution_count": 58,
   "metadata": {},
   "outputs": [
    {
     "name": "stdout",
     "output_type": "stream",
     "text": [
      "{'months_as_customer': 16, 'age': 22, 'policy_state': 20, 'policy_csl': 6, 'policy_deductable': 8, 'policy_annual_premium': 7, 'umbrella_limit': 10, 'insured_sex': 14, 'insured_education_level': 2, 'insured_occupation': 24, 'insured_hobbies': 1, 'insured_relationship': 13, 'capital-gains': 12, 'capital-loss': 17, 'incident_type': 1, 'collision_type': 23, 'incident_severity': 1, 'authorities_contacted': 1, 'incident_state': 3, 'incident_city': 19, 'incident_hour_of_the_day': 1, 'number_of_vehicles_involved': 1, 'property_damage': 21, 'bodily_injuries': 18, 'witnesses': 11, 'police_report_available': 5, 'injury_claim': 1, 'property_claim': 1, 'vehicle_claim': 1, 'auto_make': 9, 'auto_model': 15, 'auto_year': 4, 'fraud_reported': 1}\n"
     ]
    }
   ],
   "source": [
    "# Print the features and their ranking (high = dropped early on)\n",
    "print(dict(zip(X.columns, rfe.ranking_)))"
   ]
  },
  {
   "cell_type": "code",
   "execution_count": 59,
   "metadata": {},
   "outputs": [
    {
     "name": "stdout",
     "output_type": "stream",
     "text": [
      "Index(['insured_hobbies', 'incident_type', 'incident_severity',\n",
      "       'authorities_contacted', 'incident_hour_of_the_day',\n",
      "       'number_of_vehicles_involved', 'injury_claim', 'property_claim',\n",
      "       'vehicle_claim', 'fraud_reported'],\n",
      "      dtype='object')\n"
     ]
    }
   ],
   "source": [
    "# Print the features that are not eliminated\n",
    "print(X.columns[rfe.support_])"
   ]
  },
  {
   "cell_type": "code",
   "execution_count": 60,
   "metadata": {},
   "outputs": [
    {
     "name": "stdout",
     "output_type": "stream",
     "text": [
      "                        feature  rank\n",
      "16            incident_severity     1\n",
      "28                vehicle_claim     1\n",
      "27               property_claim     1\n",
      "26                 injury_claim     1\n",
      "21  number_of_vehicles_involved     1\n",
      "20     incident_hour_of_the_day     1\n",
      "17        authorities_contacted     1\n",
      "14                incident_type     1\n",
      "10              insured_hobbies     1\n",
      "32               fraud_reported     1\n"
     ]
    }
   ],
   "source": [
    "# Create a dataframe with the features\n",
    "df_features = pd.DataFrame({'feature':X.columns, 'rank':rfe.ranking_})\n",
    "\n",
    "# Print the top 10 features\n",
    "print(df_features.sort_values('rank').head(10))"
   ]
  },
  {
   "cell_type": "code",
   "execution_count": 65,
   "metadata": {},
   "outputs": [],
   "source": [
    "# Run the model with the selected features\n",
    "\n",
    "# Load the data and split into train and test sets\n",
    "\n",
    "# Select the features from the RFE\n",
    "X = df_indexed[X.columns[rfe.support_]]\n",
    "y = df_indexed['total_claim_amount']\n",
    "\n",
    "# Scale the predictor variables\n",
    "scaler = StandardScaler()\n",
    "X_scaled = scaler.fit_transform(X)\n",
    "\n",
    "# Split the data into training and test sets\n",
    "X_train, X_test, y_train, y_test = train_test_split(X_scaled, y, test_size=0.4, random_state=42)\n",
    "\n",
    "# Create a gamma regression model\n",
    "gamma_model = GammaRegressor()\n",
    "\n",
    "# Fit the model on the training data\n",
    "gamma_model.fit(X_train, y_train)\n",
    "\n",
    "# Make predictions on the test data\n",
    "y_pred = gamma_model.predict(X_test)"
   ]
  },
  {
   "cell_type": "code",
   "execution_count": 66,
   "metadata": {},
   "outputs": [
    {
     "name": "stdout",
     "output_type": "stream",
     "text": [
      "R2 Score: 0.8375504064524888\n",
      "MAE: 8829.271884314403\n",
      "MSE: 110338738.60385936\n",
      "Adjusted R2: 0.6640010561580645\n"
     ]
    }
   ],
   "source": [
    "# Calculate the Model Performance Metrics\n",
    "print('R2 Score:', r2_score(y_test, y_pred))\n",
    "print('MAE:', mean_absolute_error(y_test, y_pred))\n",
    "print('MSE:', mean_squared_error(y_test, y_pred))\n",
    "\n",
    "# Create a function to calculate the adjusted R2\n",
    "def adj_r2(X,y):\n",
    "    r2 = gamma_model.score(X,y)\n",
    "    n = X.shape[0]\n",
    "    p = X.shape[1]\n",
    "    adjusted_r2 = 1-(1-r2)*(n-1)/(n-p-1)\n",
    "    return adjusted_r2\n",
    "\n",
    "# Calculate the adjusted R2\n",
    "print('Adjusted R2:', adj_r2(X_test, y_test))"
   ]
  },
  {
   "attachments": {},
   "cell_type": "markdown",
   "metadata": {},
   "source": [
    "The RFE model shows a slight improvement compared to the original model, with a higher R2 score, lower MAE, and lower MSE. Additionally, the adjusted R2 score increased from 0.64 to 0.66, which suggests that the selected features better explain the variation in the response variable. \n",
    "\n",
    "Overall, the RFE feature selection method was able to identify a subset of features that are more relevant for predicting the total claim amount, resulting in a slightly more accurate model."
   ]
  },
  {
   "attachments": {},
   "cell_type": "markdown",
   "metadata": {},
   "source": [
    "# Count Data - Poisson Regression for Amount of Vehicles Involved in the Claim"
   ]
  },
  {
   "attachments": {},
   "cell_type": "markdown",
   "metadata": {},
   "source": [
    "The purpose of the following section is to generate a prediction model for the amount of vehicules involved in the claims. The model will be based on a Poisson Regression, which is a generalized linear model (GLM) for predicting count data.\n",
    "\n",
    "By using a Poisson model to predict the number of vehicles involved in an accident claim, the insurance company can estimate the expected number of vehicles involved in a claim and assess the associated risk and potential financial impact. This information can be used to adjust premiums, determine appropriate reserves for future claims, and identify areas for risk mitigation.\n",
    "\n",
    "Additionally, the insurance company can use the Poisson model to analyze the impact of different variables on the number of vehicles involved in a claim, such as the policyholder's age, sex, education level, occupation, or location. This information can be used to identify high-risk policyholders or regions and develop targeted risk management strategies."
   ]
  },
  {
   "cell_type": "code",
   "execution_count": 67,
   "metadata": {},
   "outputs": [
    {
     "data": {
      "text/plain": [
       "count    1000.00000\n",
       "mean        1.83900\n",
       "std         1.01888\n",
       "min         1.00000\n",
       "25%         1.00000\n",
       "50%         1.00000\n",
       "75%         3.00000\n",
       "max         4.00000\n",
       "Name: number_of_vehicles_involved, dtype: float64"
      ]
     },
     "execution_count": 67,
     "metadata": {},
     "output_type": "execute_result"
    }
   ],
   "source": [
    "# Describe the number of vehicle involded\n",
    "df['number_of_vehicles_involved'].describe()"
   ]
  },
  {
   "cell_type": "code",
   "execution_count": 68,
   "metadata": {},
   "outputs": [],
   "source": [
    "from sklearn.linear_model import PoissonRegressor"
   ]
  },
  {
   "cell_type": "code",
   "execution_count": 72,
   "metadata": {},
   "outputs": [],
   "source": [
    "# Fit a Poisson Model to Predict the Amount of vehicules involved\n",
    "\n",
    "# Load the data and split into train and test sets\n",
    "X = df_indexed.drop('number_of_vehicles_involved', axis=1)\n",
    "y = df_indexed['number_of_vehicles_involved']\n",
    "\n",
    "# Split the data into train and test sets\n",
    "X_train, X_test, y_train, y_test = train_test_split(X, y, test_size=.40, random_state=42)\n",
    "\n",
    "# Scale the predictor variables\n",
    "scaler = StandardScaler()\n",
    "X_train_scaled = scaler.fit_transform(X_train)\n",
    "X_test_scaled = scaler.transform(X_test)\n",
    "\n",
    "# Fit a Poisson regression model on the training data\n",
    "poisson_model = PoissonRegressor()\n",
    "poisson_model.fit(X_train_scaled, y_train)\n",
    "\n",
    "# Make predictions on the test data\n",
    "y_pred = poisson_model.predict(X_test_scaled)"
   ]
  },
  {
   "cell_type": "code",
   "execution_count": 75,
   "metadata": {},
   "outputs": [
    {
     "name": "stdout",
     "output_type": "stream",
     "text": [
      "R2 Score: 0.7227489970960406\n",
      "MAE: 0.47486946204652375\n",
      "MSE: 0.2938427426089932\n",
      "Adjusted R2: 0.7168411325544817\n"
     ]
    }
   ],
   "source": [
    "# Evaluate the model performance\n",
    "print('R2 Score:', r2_score(y_test, y_pred))\n",
    "print('MAE:', mean_absolute_error(y_test, y_pred))\n",
    "print('MSE:', mean_squared_error(y_test, y_pred))\n",
    "\n",
    "# Create a funciton to calculate the adjusted R2\n",
    "def adj_r2(X,y):\n",
    "    r2 = poisson_model.score(X,y)\n",
    "    n = X.shape[0]\n",
    "    p = X.shape[1]\n",
    "    adjusted_r2 = 1-(1-r2)*(n-1)/(n-p-1)\n",
    "    return adjusted_r2\n",
    "\n",
    "# Calculate the adjusted R2\n",
    "print('Adjusted R2:', adj_r2(X_test_scaled, y_test))"
   ]
  },
  {
   "attachments": {},
   "cell_type": "markdown",
   "metadata": {},
   "source": [
    "The R2 score of 0.72 indicates that the Poisson model has a moderate level of fit and is able to explain around 72% of the variance in the number of vehicles involved in a claim. \n",
    "\n",
    "The MAE value of 0.47 suggests that the model is able to predict the number of vehicles involved with an average error of 0.47, which may or may not be acceptable depending on the context of the problem. \n",
    "\n",
    "The MSE value of 0.29 suggests that the model's predictions have a moderate level of variance, which means that there is some amount of variability in the predictions around the true values. \n",
    "\n",
    "The adjusted R2 value of 0.71 indicates that the model has a good level of fit, taking into account the number of predictors used in the model. Overall, the model seems to have a moderate level of fit, but it may benefit from further refinement or the inclusion of additional predictors."
   ]
  },
  {
   "cell_type": "code",
   "execution_count": 76,
   "metadata": {},
   "outputs": [
    {
     "name": "stdout",
     "output_type": "stream",
     "text": [
      "Predicted number of vehicles involved: 1.4452792352608677\n",
      "Actual number of vehicles involved: 1\n"
     ]
    }
   ],
   "source": [
    "# Predict the number of vehicles involved in an accident for a random observation\n",
    "print('Predicted number of vehicles involved:', poisson_model.predict(X_test_scaled[0].reshape(1,-1))[0])\n",
    "print('Actual number of vehicles involved:', y_test.iloc[0])"
   ]
  },
  {
   "cell_type": "code",
   "execution_count": 113,
   "metadata": {},
   "outputs": [
    {
     "name": "stdout",
     "output_type": "stream",
     "text": [
      "Probability of accidents involving 1 vehicle: 0.7766158989555773\n",
      "Probability of accidents involving 2 vehicles: 0.6031322545105795\n",
      "Probability of accidents involving 3 vehicles: 0.46840209802583743\n",
      "Probability of accidents involving 4 vehicles: 0.36376851643101427\n"
     ]
    }
   ],
   "source": [
    "# Calculate the probability of accidents involving 1, 2, 3, and 4 vehicles\n",
    "\n",
    "from scipy.stats import poisson\n",
    "\n",
    "# Create a function to calculate the probability of accidents involving 1, 2, 3, and 4 vehicles given the model, and returning a single percentage per number of vehicles\n",
    "def prob_vehicles(model, X, num_vehicles):\n",
    "    # Convert X to a DataFrame\n",
    "    X_df = pd.DataFrame(X, columns=X_test.columns)\n",
    "    # Create a dataframe with the features\n",
    "    df_features = pd.DataFrame({'feature':X_df.columns, 'coef':model.coef_})\n",
    "    # Create a dataframe with the features and their exponential\n",
    "    df_features['exp_coef'] = df_features['coef'].apply(lambda x: np.exp(x))\n",
    "    # Create a dataframe with the features and their exponential multiplied by the number of vehicles\n",
    "    df_features['exp_coef_num_vehicles'] = df_features['exp_coef'].apply(lambda x: x**num_vehicles)\n",
    "    # Calculate the probability of accidents involving 1, 2, 3, and 4 vehicles\n",
    "    prob = df_features['exp_coef_num_vehicles'].prod()\n",
    "    return prob\n",
    "\n",
    "# Calculate the probability of accidents involving 1, 2, 3, and 4 vehicles\n",
    "print('Probability of accidents involving 1 vehicle:', prob_vehicles(poisson_model, X_test_scaled[0].reshape(1,-1), 1))\n",
    "print('Probability of accidents involving 2 vehicles:', prob_vehicles(poisson_model, X_test_scaled[0].reshape(1,-1), 2))\n",
    "print('Probability of accidents involving 3 vehicles:', prob_vehicles(poisson_model, X_test_scaled[0].reshape(1,-1), 3))\n",
    "print('Probability of accidents involving 4 vehicles:', prob_vehicles(poisson_model, X_test_scaled[0].reshape(1,-1), 4))"
   ]
  },
  {
   "attachments": {},
   "cell_type": "markdown",
   "metadata": {},
   "source": [
    "The results suggest that the probability of an accident involving 1 vehicle is the highest among the four options, with a probability of approximately 0.78. The probability decreases as the number of vehicles involved in the accident increases, with a probability of approximately 0.60 for accidents involving 2 vehicles, approximately 0.47 for accidents involving 3 vehicles, and approximately 0.36 for accidents involving 4 vehicles.\n",
    "\n",
    "These probabilities may provide insights for insurance companies and policy makers when assessing risk and designing policies related to auto accidents. It may be helpful to investigate the causes of accidents involving multiple vehicles and to determine ways to mitigate these risks, such as improving road infrastructure and safety measures."
   ]
  },
  {
   "attachments": {},
   "cell_type": "markdown",
   "metadata": {},
   "source": [
    "# Neural Network for Fraud Prediction"
   ]
  },
  {
   "attachments": {},
   "cell_type": "markdown",
   "metadata": {},
   "source": [
    "The following section is focused on generating a prediction model for the fraud probability. The model will be based on a Neural Network Model, which is a machine learning model that can be used to predict the probability of an event occurring.\n",
    "\n",
    "As a business problem, a machine learning model can help insurance companies to detect and prevent fraud more accurately and efficiently, reducing financial losses and maintaining lower premiums for policyholders. By analyzing historical data and identifying patterns indicative of fraud, the model can prioritize investigations and allocate resources more effectively, improving overall risk management for the company."
   ]
  },
  {
   "cell_type": "code",
   "execution_count": 114,
   "metadata": {},
   "outputs": [],
   "source": [
    "# Define the dependent and independent variables\n",
    "X = df.drop('fraud_reported', axis=1)\n",
    "y = df['fraud_reported']"
   ]
  },
  {
   "cell_type": "code",
   "execution_count": 117,
   "metadata": {},
   "outputs": [],
   "source": [
    "# Drop fraud_reported from the cat_cols list\n",
    "cat_cols=[i for i in cat_cols if i not in ['fraud_reported']]"
   ]
  },
  {
   "cell_type": "code",
   "execution_count": 118,
   "metadata": {},
   "outputs": [],
   "source": [
    "# Get the dummy variables for the categorical columns\n",
    "X=pd.get_dummies(X,columns=cat_cols,drop_first=True)"
   ]
  },
  {
   "cell_type": "code",
   "execution_count": 119,
   "metadata": {},
   "outputs": [],
   "source": [
    "# Split the data into train and test sets\n",
    "X_train, X_test, y_train, y_test = train_test_split(X, y, test_size=0.5, random_state=52)"
   ]
  },
  {
   "cell_type": "code",
   "execution_count": 120,
   "metadata": {},
   "outputs": [
    {
     "name": "stdout",
     "output_type": "stream",
     "text": [
      "Model: \"sequential\"\n",
      "_________________________________________________________________\n",
      " Layer (type)                Output Shape              Param #   \n",
      "=================================================================\n",
      " dense (Dense)               (None, 16)                1584      \n",
      "                                                                 \n",
      " dense_1 (Dense)             (None, 8)                 136       \n",
      "                                                                 \n",
      " dense_2 (Dense)             (None, 4)                 36        \n",
      "                                                                 \n",
      " dense_3 (Dense)             (None, 1)                 5         \n",
      "                                                                 \n",
      "=================================================================\n",
      "Total params: 1,761\n",
      "Trainable params: 1,761\n",
      "Non-trainable params: 0\n",
      "_________________________________________________________________\n",
      "None\n"
     ]
    }
   ],
   "source": [
    "# Fit a neural network model to predict fraud_reported using Keras\n",
    "\n",
    "# Import the required libraries\n",
    "from keras.models import Sequential\n",
    "from keras.layers import Dense\n",
    "from keras.optimizers import Adam\n",
    "from keras.callbacks import EarlyStopping\n",
    "\n",
    "# Create a function to create a neural network model\n",
    "def create_model():\n",
    "    # create model\n",
    "    model = Sequential()\n",
    "    model.add(Dense(16, input_dim=X_train.shape[1], activation='relu'))\n",
    "    model.add(Dense(8, activation='relu'))\n",
    "    model.add(Dense(4, activation='relu'))\n",
    "    model.add(Dense(1, activation='sigmoid'))\n",
    "    \n",
    "    # Compile model\n",
    "    adam=Adam(lr=0.0001)\n",
    "    model.compile(loss='binary_crossentropy', optimizer=adam, metrics=['accuracy'])\n",
    "    return model\n",
    "\n",
    "# Create a model\n",
    "model = create_model()\n",
    "\n",
    "# Print the model summary\n",
    "print(model.summary())"
   ]
  },
  {
   "cell_type": "code",
   "execution_count": 121,
   "metadata": {},
   "outputs": [
    {
     "name": "stdout",
     "output_type": "stream",
     "text": [
      "Epoch 1/200\n",
      "25/25 [==============================] - 0s 899us/step - loss: 6947.1743 - accuracy: 0.6580\n",
      "Epoch 2/200\n",
      "25/25 [==============================] - 0s 898us/step - loss: 2474.5608 - accuracy: 0.6360\n",
      "Epoch 3/200\n",
      "25/25 [==============================] - 0s 965us/step - loss: 908.8033 - accuracy: 0.5800\n",
      "Epoch 4/200\n",
      "25/25 [==============================] - 0s 792us/step - loss: 745.7484 - accuracy: 0.5840\n",
      "Epoch 5/200\n",
      "25/25 [==============================] - 0s 815us/step - loss: 552.3362 - accuracy: 0.5800\n",
      "Epoch 6/200\n",
      "25/25 [==============================] - 0s 836us/step - loss: 541.5812 - accuracy: 0.5740\n",
      "Epoch 7/200\n",
      "25/25 [==============================] - 0s 878us/step - loss: 586.6372 - accuracy: 0.5820\n",
      "Epoch 8/200\n",
      "25/25 [==============================] - 0s 881us/step - loss: 542.7558 - accuracy: 0.5820\n",
      "Epoch 9/200\n",
      "25/25 [==============================] - 0s 819us/step - loss: 456.3873 - accuracy: 0.6080\n",
      "Epoch 10/200\n",
      "25/25 [==============================] - 0s 837us/step - loss: 492.1421 - accuracy: 0.6000\n",
      "Epoch 11/200\n",
      "25/25 [==============================] - 0s 836us/step - loss: 519.8999 - accuracy: 0.6120\n",
      "Epoch 12/200\n",
      "25/25 [==============================] - 0s 794us/step - loss: 472.0103 - accuracy: 0.6100\n",
      "Epoch 13/200\n",
      "25/25 [==============================] - 0s 877us/step - loss: 398.6445 - accuracy: 0.6040\n",
      "Epoch 14/200\n",
      "25/25 [==============================] - 0s 836us/step - loss: 380.9908 - accuracy: 0.6020\n",
      "Epoch 15/200\n",
      "25/25 [==============================] - 0s 839us/step - loss: 392.1096 - accuracy: 0.6140\n",
      "Epoch 16/200\n",
      "25/25 [==============================] - 0s 814us/step - loss: 398.7802 - accuracy: 0.6080\n",
      "Epoch 17/200\n",
      "25/25 [==============================] - 0s 1ms/step - loss: 381.8946 - accuracy: 0.6140\n",
      "Epoch 18/200\n",
      "25/25 [==============================] - 0s 1ms/step - loss: 367.1260 - accuracy: 0.5940\n",
      "Epoch 19/200\n",
      "25/25 [==============================] - 0s 1ms/step - loss: 336.5479 - accuracy: 0.6120\n",
      "Epoch 20/200\n",
      "25/25 [==============================] - 0s 943us/step - loss: 402.0947 - accuracy: 0.6280\n",
      "Epoch 21/200\n",
      "25/25 [==============================] - 0s 877us/step - loss: 322.5425 - accuracy: 0.6160\n",
      "Epoch 22/200\n",
      "25/25 [==============================] - 0s 814us/step - loss: 343.7301 - accuracy: 0.6160\n",
      "Epoch 23/200\n",
      "25/25 [==============================] - 0s 879us/step - loss: 316.4546 - accuracy: 0.6160\n",
      "Epoch 24/200\n",
      "25/25 [==============================] - 0s 835us/step - loss: 318.9844 - accuracy: 0.6160\n",
      "Epoch 25/200\n",
      "25/25 [==============================] - 0s 826us/step - loss: 250.8297 - accuracy: 0.6200\n",
      "Epoch 26/200\n",
      "25/25 [==============================] - 0s 818us/step - loss: 267.4481 - accuracy: 0.6020\n",
      "Epoch 27/200\n",
      "25/25 [==============================] - 0s 814us/step - loss: 336.0552 - accuracy: 0.6280\n",
      "Epoch 28/200\n",
      "25/25 [==============================] - 0s 857us/step - loss: 250.4970 - accuracy: 0.6120\n",
      "Epoch 29/200\n",
      "25/25 [==============================] - 0s 835us/step - loss: 280.1104 - accuracy: 0.6100\n",
      "Epoch 30/200\n",
      "25/25 [==============================] - 0s 836us/step - loss: 237.4940 - accuracy: 0.6260\n",
      "Epoch 31/200\n",
      "25/25 [==============================] - 0s 815us/step - loss: 284.4987 - accuracy: 0.5940\n",
      "Epoch 32/200\n",
      "25/25 [==============================] - 0s 839us/step - loss: 399.9630 - accuracy: 0.6040\n",
      "Epoch 33/200\n",
      "25/25 [==============================] - 0s 846us/step - loss: 280.7903 - accuracy: 0.6120\n",
      "Epoch 34/200\n",
      "25/25 [==============================] - 0s 1ms/step - loss: 200.7180 - accuracy: 0.5940\n",
      "Epoch 35/200\n",
      "25/25 [==============================] - 0s 981us/step - loss: 267.8877 - accuracy: 0.6000\n",
      "Epoch 36/200\n",
      "25/25 [==============================] - 0s 1ms/step - loss: 236.3749 - accuracy: 0.5960\n",
      "Epoch 37/200\n",
      "25/25 [==============================] - 0s 865us/step - loss: 168.1265 - accuracy: 0.5800\n",
      "Epoch 38/200\n",
      "25/25 [==============================] - 0s 841us/step - loss: 202.3585 - accuracy: 0.5640\n",
      "Epoch 39/200\n",
      "25/25 [==============================] - 0s 876us/step - loss: 141.2833 - accuracy: 0.5520\n",
      "Epoch 40/200\n",
      "25/25 [==============================] - 0s 835us/step - loss: 143.3056 - accuracy: 0.5480\n",
      "Epoch 41/200\n",
      "25/25 [==============================] - 0s 898us/step - loss: 146.7035 - accuracy: 0.5360\n",
      "Epoch 42/200\n",
      "25/25 [==============================] - 0s 815us/step - loss: 163.3881 - accuracy: 0.5700\n",
      "Epoch 43/200\n",
      "25/25 [==============================] - 0s 796us/step - loss: 143.7869 - accuracy: 0.5840\n",
      "Epoch 44/200\n",
      "25/25 [==============================] - 0s 839us/step - loss: 247.4911 - accuracy: 0.5560\n",
      "Epoch 45/200\n",
      "25/25 [==============================] - 0s 877us/step - loss: 208.7947 - accuracy: 0.5760\n",
      "Epoch 46/200\n",
      "25/25 [==============================] - 0s 856us/step - loss: 126.1005 - accuracy: 0.6100\n",
      "Epoch 47/200\n",
      "25/25 [==============================] - 0s 793us/step - loss: 141.9734 - accuracy: 0.6080\n",
      "Epoch 48/200\n",
      "25/25 [==============================] - 0s 983us/step - loss: 144.8161 - accuracy: 0.6200\n",
      "Epoch 49/200\n",
      "25/25 [==============================] - 0s 1ms/step - loss: 125.4669 - accuracy: 0.6080\n",
      "Epoch 50/200\n",
      "25/25 [==============================] - 0s 945us/step - loss: 152.8707 - accuracy: 0.6160\n",
      "Epoch 51/200\n",
      "25/25 [==============================] - 0s 814us/step - loss: 129.0500 - accuracy: 0.6420\n",
      "Epoch 52/200\n",
      "25/25 [==============================] - 0s 814us/step - loss: 72.6257 - accuracy: 0.6340\n",
      "Epoch 53/200\n",
      "25/25 [==============================] - 0s 835us/step - loss: 98.1095 - accuracy: 0.6400\n",
      "Epoch 54/200\n",
      "25/25 [==============================] - 0s 796us/step - loss: 84.0623 - accuracy: 0.6340\n",
      "Epoch 55/200\n",
      "25/25 [==============================] - 0s 815us/step - loss: 56.1537 - accuracy: 0.6460\n",
      "Epoch 56/200\n",
      "25/25 [==============================] - 0s 796us/step - loss: 91.9431 - accuracy: 0.6440\n",
      "Epoch 57/200\n",
      "25/25 [==============================] - 0s 814us/step - loss: 81.1964 - accuracy: 0.6440\n",
      "Epoch 58/200\n",
      "25/25 [==============================] - 0s 814us/step - loss: 101.5889 - accuracy: 0.6460\n",
      "Epoch 59/200\n",
      "25/25 [==============================] - 0s 814us/step - loss: 91.1583 - accuracy: 0.6640\n",
      "Epoch 60/200\n",
      "25/25 [==============================] - 0s 794us/step - loss: 55.9413 - accuracy: 0.6360\n",
      "Epoch 61/200\n",
      "25/25 [==============================] - 0s 797us/step - loss: 139.1858 - accuracy: 0.6600\n",
      "Epoch 62/200\n",
      "25/25 [==============================] - 0s 796us/step - loss: 82.1207 - accuracy: 0.6520\n",
      "Epoch 63/200\n",
      "25/25 [==============================] - 0s 982us/step - loss: 103.8644 - accuracy: 0.6680\n",
      "Epoch 64/200\n",
      "25/25 [==============================] - 0s 1ms/step - loss: 134.1967 - accuracy: 0.6680\n",
      "Epoch 65/200\n",
      "25/25 [==============================] - 0s 981us/step - loss: 53.8054 - accuracy: 0.6740\n",
      "Epoch 66/200\n",
      "25/25 [==============================] - 0s 794us/step - loss: 54.0155 - accuracy: 0.6880\n",
      "Epoch 67/200\n",
      "25/25 [==============================] - 0s 798us/step - loss: 193.8517 - accuracy: 0.6700\n",
      "Epoch 68/200\n",
      "25/25 [==============================] - 0s 794us/step - loss: 60.0211 - accuracy: 0.6900\n",
      "Epoch 69/200\n",
      "25/25 [==============================] - 0s 814us/step - loss: 77.5990 - accuracy: 0.6780\n",
      "Epoch 70/200\n",
      "25/25 [==============================] - 0s 835us/step - loss: 55.0239 - accuracy: 0.6660\n",
      "Epoch 71/200\n",
      "25/25 [==============================] - 0s 791us/step - loss: 62.3729 - accuracy: 0.6720\n",
      "Epoch 72/200\n",
      "25/25 [==============================] - 0s 797us/step - loss: 104.9686 - accuracy: 0.6620\n",
      "Epoch 73/200\n",
      "25/25 [==============================] - 0s 796us/step - loss: 68.0541 - accuracy: 0.6760\n",
      "Epoch 74/200\n",
      "25/25 [==============================] - 0s 775us/step - loss: 165.1224 - accuracy: 0.6880\n",
      "Epoch 75/200\n",
      "25/25 [==============================] - 0s 796us/step - loss: 86.6320 - accuracy: 0.6660\n",
      "Epoch 76/200\n",
      "25/25 [==============================] - 0s 773us/step - loss: 101.0446 - accuracy: 0.6580\n",
      "Epoch 77/200\n",
      "25/25 [==============================] - 0s 817us/step - loss: 55.4335 - accuracy: 0.6880\n",
      "Epoch 78/200\n",
      "25/25 [==============================] - 0s 795us/step - loss: 56.9533 - accuracy: 0.6880\n",
      "Epoch 79/200\n",
      "25/25 [==============================] - 0s 1ms/step - loss: 101.0332 - accuracy: 0.6740\n",
      "Epoch 80/200\n",
      "25/25 [==============================] - 0s 1ms/step - loss: 100.4065 - accuracy: 0.6820\n",
      "Epoch 81/200\n",
      "25/25 [==============================] - 0s 1ms/step - loss: 102.4389 - accuracy: 0.6680\n",
      "Epoch 82/200\n",
      "25/25 [==============================] - 0s 1ms/step - loss: 82.6608 - accuracy: 0.6920\n",
      "Epoch 83/200\n",
      "25/25 [==============================] - 0s 836us/step - loss: 84.9176 - accuracy: 0.6760\n",
      "Epoch 84/200\n",
      "25/25 [==============================] - 0s 836us/step - loss: 84.8463 - accuracy: 0.6840\n",
      "Epoch 85/200\n",
      "25/25 [==============================] - 0s 800us/step - loss: 65.7322 - accuracy: 0.6760\n",
      "Epoch 86/200\n",
      "25/25 [==============================] - 0s 794us/step - loss: 58.2357 - accuracy: 0.6760\n",
      "Epoch 87/200\n",
      "25/25 [==============================] - 0s 793us/step - loss: 96.6498 - accuracy: 0.6780\n",
      "Epoch 88/200\n",
      "25/25 [==============================] - 0s 856us/step - loss: 121.9459 - accuracy: 0.6800\n",
      "Epoch 89/200\n",
      "25/25 [==============================] - 0s 841us/step - loss: 55.6262 - accuracy: 0.6780\n",
      "Epoch 90/200\n",
      "25/25 [==============================] - 0s 793us/step - loss: 68.2254 - accuracy: 0.6600\n",
      "Epoch 91/200\n",
      "25/25 [==============================] - 0s 835us/step - loss: 53.3755 - accuracy: 0.6880\n",
      "Epoch 92/200\n",
      "25/25 [==============================] - 0s 814us/step - loss: 46.2688 - accuracy: 0.6880\n",
      "Epoch 93/200\n",
      "25/25 [==============================] - 0s 795us/step - loss: 46.6621 - accuracy: 0.6900\n",
      "Epoch 94/200\n",
      "25/25 [==============================] - 0s 962us/step - loss: 57.2078 - accuracy: 0.6860\n",
      "Epoch 95/200\n",
      "25/25 [==============================] - 0s 1ms/step - loss: 49.6593 - accuracy: 0.6960\n",
      "Epoch 96/200\n",
      "25/25 [==============================] - 0s 905us/step - loss: 80.0890 - accuracy: 0.6880\n",
      "Epoch 97/200\n",
      "25/25 [==============================] - 0s 794us/step - loss: 70.6270 - accuracy: 0.6700\n",
      "Epoch 98/200\n",
      "25/25 [==============================] - 0s 835us/step - loss: 69.6082 - accuracy: 0.6840\n",
      "Epoch 99/200\n",
      "25/25 [==============================] - 0s 794us/step - loss: 67.1859 - accuracy: 0.6840\n",
      "Epoch 100/200\n",
      "25/25 [==============================] - 0s 773us/step - loss: 64.1913 - accuracy: 0.6800\n",
      "Epoch 101/200\n",
      "25/25 [==============================] - 0s 793us/step - loss: 71.5268 - accuracy: 0.6800\n",
      "Epoch 102/200\n",
      "25/25 [==============================] - 0s 772us/step - loss: 71.3787 - accuracy: 0.6920\n",
      "Epoch 103/200\n",
      "25/25 [==============================] - 0s 815us/step - loss: 50.0667 - accuracy: 0.6840\n",
      "Epoch 104/200\n",
      "25/25 [==============================] - 0s 815us/step - loss: 58.8049 - accuracy: 0.6880\n",
      "Epoch 105/200\n",
      "25/25 [==============================] - 0s 795us/step - loss: 64.7363 - accuracy: 0.6640\n",
      "Epoch 106/200\n",
      "25/25 [==============================] - 0s 794us/step - loss: 88.3265 - accuracy: 0.7020\n",
      "Epoch 107/200\n",
      "25/25 [==============================] - 0s 835us/step - loss: 97.6908 - accuracy: 0.7000\n",
      "Epoch 108/200\n",
      "25/25 [==============================] - 0s 772us/step - loss: 54.4678 - accuracy: 0.6980\n",
      "Epoch 109/200\n",
      "25/25 [==============================] - 0s 793us/step - loss: 58.5719 - accuracy: 0.6960\n",
      "Epoch 110/200\n",
      "25/25 [==============================] - 0s 1ms/step - loss: 69.8249 - accuracy: 0.7120\n",
      "Epoch 111/200\n",
      "25/25 [==============================] - 0s 1ms/step - loss: 86.3784 - accuracy: 0.7080\n",
      "Epoch 112/200\n",
      "25/25 [==============================] - 0s 1ms/step - loss: 42.0706 - accuracy: 0.7000\n",
      "Epoch 113/200\n",
      "25/25 [==============================] - 0s 794us/step - loss: 35.6461 - accuracy: 0.7080\n",
      "Epoch 114/200\n",
      "25/25 [==============================] - 0s 793us/step - loss: 44.5446 - accuracy: 0.6740\n",
      "Epoch 115/200\n",
      "25/25 [==============================] - 0s 793us/step - loss: 53.1757 - accuracy: 0.6720\n",
      "Epoch 116/200\n",
      "25/25 [==============================] - 0s 793us/step - loss: 31.8403 - accuracy: 0.7100\n",
      "Epoch 117/200\n",
      "25/25 [==============================] - 0s 794us/step - loss: 63.2532 - accuracy: 0.6660\n",
      "Epoch 118/200\n",
      "25/25 [==============================] - 0s 799us/step - loss: 51.0646 - accuracy: 0.6920\n",
      "Epoch 119/200\n",
      "25/25 [==============================] - 0s 818us/step - loss: 159.9407 - accuracy: 0.6780\n",
      "Epoch 120/200\n",
      "25/25 [==============================] - 0s 792us/step - loss: 102.6931 - accuracy: 0.6980\n",
      "Epoch 121/200\n",
      "25/25 [==============================] - 0s 834us/step - loss: 26.7488 - accuracy: 0.7080\n",
      "Epoch 122/200\n",
      "25/25 [==============================] - 0s 794us/step - loss: 48.9884 - accuracy: 0.6980\n",
      "Epoch 123/200\n",
      "25/25 [==============================] - 0s 794us/step - loss: 69.0593 - accuracy: 0.6960\n",
      "Epoch 124/200\n",
      "25/25 [==============================] - 0s 2ms/step - loss: 80.7219 - accuracy: 0.6860\n",
      "Epoch 125/200\n",
      "25/25 [==============================] - 0s 954us/step - loss: 28.2026 - accuracy: 0.7060\n",
      "Epoch 126/200\n",
      "25/25 [==============================] - 0s 882us/step - loss: 34.3212 - accuracy: 0.7160\n",
      "Epoch 127/200\n",
      "25/25 [==============================] - 0s 813us/step - loss: 43.6475 - accuracy: 0.6760\n",
      "Epoch 128/200\n",
      "25/25 [==============================] - 0s 814us/step - loss: 86.1366 - accuracy: 0.6980\n",
      "Epoch 129/200\n",
      "25/25 [==============================] - 0s 776us/step - loss: 106.6821 - accuracy: 0.6880\n",
      "Epoch 130/200\n",
      "25/25 [==============================] - 0s 816us/step - loss: 171.6767 - accuracy: 0.6700\n",
      "Epoch 131/200\n",
      "25/25 [==============================] - 0s 798us/step - loss: 114.7948 - accuracy: 0.7080\n",
      "Epoch 132/200\n",
      "25/25 [==============================] - 0s 793us/step - loss: 130.5965 - accuracy: 0.6880\n",
      "Epoch 133/200\n",
      "25/25 [==============================] - 0s 772us/step - loss: 39.1164 - accuracy: 0.7100\n",
      "Epoch 134/200\n",
      "25/25 [==============================] - 0s 792us/step - loss: 57.6070 - accuracy: 0.7100\n",
      "Epoch 135/200\n",
      "25/25 [==============================] - 0s 793us/step - loss: 37.7200 - accuracy: 0.7060\n",
      "Epoch 136/200\n",
      "25/25 [==============================] - 0s 815us/step - loss: 57.3084 - accuracy: 0.7060\n",
      "Epoch 137/200\n",
      "25/25 [==============================] - 0s 1ms/step - loss: 79.1852 - accuracy: 0.7040\n",
      "Epoch 138/200\n",
      "25/25 [==============================] - 0s 1ms/step - loss: 76.8136 - accuracy: 0.6980\n",
      "Epoch 139/200\n",
      "25/25 [==============================] - 0s 960us/step - loss: 74.8812 - accuracy: 0.7060\n",
      "Epoch 140/200\n",
      "25/25 [==============================] - 0s 814us/step - loss: 51.2769 - accuracy: 0.7160\n",
      "Epoch 141/200\n",
      "25/25 [==============================] - 0s 815us/step - loss: 123.5782 - accuracy: 0.6940\n",
      "Epoch 142/200\n",
      "25/25 [==============================] - 0s 772us/step - loss: 97.9099 - accuracy: 0.6900\n",
      "Epoch 143/200\n",
      "25/25 [==============================] - 0s 813us/step - loss: 100.2137 - accuracy: 0.7260\n",
      "Epoch 144/200\n",
      "25/25 [==============================] - 0s 818us/step - loss: 163.4574 - accuracy: 0.6940\n",
      "Epoch 145/200\n",
      "25/25 [==============================] - 0s 836us/step - loss: 262.9234 - accuracy: 0.6940\n",
      "Epoch 146/200\n",
      "25/25 [==============================] - 0s 989us/step - loss: 190.6122 - accuracy: 0.7120\n",
      "Epoch 147/200\n",
      "25/25 [==============================] - 0s 793us/step - loss: 50.9315 - accuracy: 0.7060\n",
      "Epoch 148/200\n",
      "25/25 [==============================] - 0s 792us/step - loss: 93.2805 - accuracy: 0.6980\n",
      "Epoch 149/200\n",
      "25/25 [==============================] - 0s 794us/step - loss: 61.3404 - accuracy: 0.7280\n",
      "Epoch 150/200\n",
      "25/25 [==============================] - 0s 753us/step - loss: 47.1367 - accuracy: 0.6960\n",
      "Epoch 151/200\n",
      "25/25 [==============================] - 0s 838us/step - loss: 128.6801 - accuracy: 0.7220\n",
      "Epoch 152/200\n",
      "25/25 [==============================] - 0s 1ms/step - loss: 103.4937 - accuracy: 0.7220\n",
      "Epoch 153/200\n",
      "25/25 [==============================] - 0s 1ms/step - loss: 72.6324 - accuracy: 0.7020\n",
      "Epoch 154/200\n",
      "25/25 [==============================] - 0s 920us/step - loss: 53.5139 - accuracy: 0.7120\n",
      "Epoch 155/200\n",
      "25/25 [==============================] - 0s 773us/step - loss: 69.2190 - accuracy: 0.7080\n",
      "Epoch 156/200\n",
      "25/25 [==============================] - 0s 772us/step - loss: 79.1296 - accuracy: 0.7080\n",
      "Epoch 157/200\n",
      "25/25 [==============================] - 0s 781us/step - loss: 48.9102 - accuracy: 0.7020\n",
      "Epoch 158/200\n",
      "25/25 [==============================] - 0s 817us/step - loss: 31.8400 - accuracy: 0.7260\n",
      "Epoch 159/200\n",
      "25/25 [==============================] - 0s 756us/step - loss: 30.7672 - accuracy: 0.7280\n",
      "Epoch 160/200\n",
      "25/25 [==============================] - 0s 813us/step - loss: 57.0757 - accuracy: 0.7260\n",
      "Epoch 161/200\n",
      "25/25 [==============================] - 0s 836us/step - loss: 86.2038 - accuracy: 0.7220\n",
      "Epoch 162/200\n",
      "25/25 [==============================] - 0s 794us/step - loss: 44.8307 - accuracy: 0.7140\n",
      "Epoch 163/200\n",
      "25/25 [==============================] - 0s 794us/step - loss: 29.2588 - accuracy: 0.7300\n",
      "Epoch 164/200\n",
      "25/25 [==============================] - 0s 773us/step - loss: 54.9562 - accuracy: 0.7200\n",
      "Epoch 165/200\n",
      "25/25 [==============================] - 0s 796us/step - loss: 49.0006 - accuracy: 0.7300\n",
      "Epoch 166/200\n",
      "25/25 [==============================] - 0s 1ms/step - loss: 64.4708 - accuracy: 0.7020\n",
      "Epoch 167/200\n",
      "25/25 [==============================] - 0s 983us/step - loss: 23.1144 - accuracy: 0.7280\n",
      "Epoch 168/200\n",
      "25/25 [==============================] - 0s 860us/step - loss: 55.4248 - accuracy: 0.7280\n",
      "Epoch 169/200\n",
      "25/25 [==============================] - 0s 798us/step - loss: 49.9142 - accuracy: 0.7220\n",
      "Epoch 170/200\n",
      "25/25 [==============================] - 0s 793us/step - loss: 83.9214 - accuracy: 0.7120\n",
      "Epoch 171/200\n",
      "25/25 [==============================] - 0s 794us/step - loss: 107.3120 - accuracy: 0.7240\n",
      "Epoch 172/200\n",
      "25/25 [==============================] - 0s 795us/step - loss: 40.4449 - accuracy: 0.7240\n",
      "Epoch 173/200\n",
      "25/25 [==============================] - 0s 795us/step - loss: 64.2503 - accuracy: 0.7020\n",
      "Epoch 174/200\n",
      "25/25 [==============================] - 0s 781us/step - loss: 144.2501 - accuracy: 0.7080\n",
      "Epoch 175/200\n",
      "25/25 [==============================] - 0s 751us/step - loss: 46.9898 - accuracy: 0.7220\n",
      "Epoch 176/200\n",
      "25/25 [==============================] - 0s 837us/step - loss: 21.0693 - accuracy: 0.7380\n",
      "Epoch 177/200\n",
      "25/25 [==============================] - 0s 796us/step - loss: 41.0686 - accuracy: 0.7260\n",
      "Epoch 178/200\n",
      "25/25 [==============================] - 0s 752us/step - loss: 69.5288 - accuracy: 0.7120\n",
      "Epoch 179/200\n",
      "25/25 [==============================] - 0s 877us/step - loss: 91.4239 - accuracy: 0.7020\n",
      "Epoch 180/200\n",
      "25/25 [==============================] - 0s 2ms/step - loss: 177.0196 - accuracy: 0.7360\n",
      "Epoch 181/200\n",
      "25/25 [==============================] - 0s 965us/step - loss: 114.6377 - accuracy: 0.7100\n",
      "Epoch 182/200\n",
      "25/25 [==============================] - 0s 881us/step - loss: 103.1633 - accuracy: 0.7140\n",
      "Epoch 183/200\n",
      "25/25 [==============================] - 0s 796us/step - loss: 37.5359 - accuracy: 0.7360\n",
      "Epoch 184/200\n",
      "25/25 [==============================] - 0s 815us/step - loss: 38.0279 - accuracy: 0.7200\n",
      "Epoch 185/200\n",
      "25/25 [==============================] - 0s 794us/step - loss: 47.0279 - accuracy: 0.7180\n",
      "Epoch 186/200\n",
      "25/25 [==============================] - 0s 836us/step - loss: 52.1423 - accuracy: 0.7260\n",
      "Epoch 187/200\n",
      "25/25 [==============================] - 0s 779us/step - loss: 36.5526 - accuracy: 0.7240\n",
      "Epoch 188/200\n",
      "25/25 [==============================] - 0s 835us/step - loss: 41.8313 - accuracy: 0.7340\n",
      "Epoch 189/200\n",
      "25/25 [==============================] - 0s 818us/step - loss: 47.0684 - accuracy: 0.7220\n",
      "Epoch 190/200\n",
      "25/25 [==============================] - 0s 793us/step - loss: 28.6111 - accuracy: 0.7300\n",
      "Epoch 191/200\n",
      "25/25 [==============================] - 0s 800us/step - loss: 59.4901 - accuracy: 0.7340\n",
      "Epoch 192/200\n",
      "25/25 [==============================] - 0s 794us/step - loss: 95.7343 - accuracy: 0.7220\n",
      "Epoch 193/200\n",
      "25/25 [==============================] - 0s 941us/step - loss: 84.1668 - accuracy: 0.7180\n",
      "Epoch 194/200\n",
      "25/25 [==============================] - 0s 1ms/step - loss: 34.4738 - accuracy: 0.7420\n",
      "Epoch 195/200\n",
      "25/25 [==============================] - 0s 901us/step - loss: 128.3673 - accuracy: 0.7360\n",
      "Epoch 196/200\n",
      "25/25 [==============================] - 0s 814us/step - loss: 141.1569 - accuracy: 0.7020\n",
      "Epoch 197/200\n",
      "25/25 [==============================] - 0s 773us/step - loss: 87.6433 - accuracy: 0.7300\n",
      "Epoch 198/200\n",
      "25/25 [==============================] - 0s 796us/step - loss: 42.1844 - accuracy: 0.7200\n",
      "Epoch 199/200\n",
      "25/25 [==============================] - 0s 836us/step - loss: 34.2162 - accuracy: 0.7240\n",
      "Epoch 200/200\n",
      "25/25 [==============================] - 0s 798us/step - loss: 58.8181 - accuracy: 0.7280\n"
     ]
    },
    {
     "data": {
      "text/plain": [
       "<keras.callbacks.History at 0x145d278d550>"
      ]
     },
     "execution_count": 121,
     "metadata": {},
     "output_type": "execute_result"
    }
   ],
   "source": [
    "# Fit the model\n",
    "model.fit(X_train, y_train, epochs=200, batch_size=20, verbose=1)"
   ]
  },
  {
   "cell_type": "code",
   "execution_count": 122,
   "metadata": {},
   "outputs": [
    {
     "name": "stdout",
     "output_type": "stream",
     "text": [
      "16/16 [==============================] - 0s 669us/step\n"
     ]
    }
   ],
   "source": [
    "# Predict the model\n",
    "y_pred = model.predict(X_test)"
   ]
  },
  {
   "cell_type": "code",
   "execution_count": 123,
   "metadata": {},
   "outputs": [
    {
     "name": "stdout",
     "output_type": "stream",
     "text": [
      "0.728\n"
     ]
    }
   ],
   "source": [
    "# Print the accuracy score\n",
    "print(accuracy_score(y_test,y_pred.round()))"
   ]
  },
  {
   "cell_type": "code",
   "execution_count": 124,
   "metadata": {},
   "outputs": [
    {
     "name": "stdout",
     "output_type": "stream",
     "text": [
      "[[361  20]\n",
      " [116   3]]\n"
     ]
    }
   ],
   "source": [
    "# Print the confusion matrix\n",
    "print(confusion_matrix(y_test,y_pred.round()))"
   ]
  },
  {
   "cell_type": "code",
   "execution_count": 125,
   "metadata": {},
   "outputs": [
    {
     "data": {
      "image/png": "[encoded data removed]",
      "text/plain": [
       "<Figure size 432x288 with 2 Axes>"
      ]
     },
     "metadata": {
      "needs_background": "light"
     },
     "output_type": "display_data"
    }
   ],
   "source": [
    "# Plot the confusion matrix\n",
    "sns.heatmap(confusion_matrix(y_test,y_pred.round()),annot=True,fmt='d');"
   ]
  },
  {
   "attachments": {},
   "cell_type": "markdown",
   "metadata": {},
   "source": [
    "The model accuracy does not to seem that great, with only a score of 73% accuracy. Let's see if we can improve it by hyperparameter tuning."
   ]
  },
  {
   "cell_type": "code",
   "execution_count": 126,
   "metadata": {},
   "outputs": [
    {
     "name": "stdout",
     "output_type": "stream",
     "text": [
      "Epoch 1/100\n",
      "7/7 [==============================] - 1s 1ms/step - loss: 38319.8867 - accuracy: 0.4680\n",
      "Epoch 2/100\n",
      "7/7 [==============================] - 0s 1ms/step - loss: 25369.8164 - accuracy: 0.5080\n",
      "Epoch 3/100\n",
      "7/7 [==============================] - 0s 1ms/step - loss: 11500.5107 - accuracy: 0.6280\n",
      "Epoch 4/100\n",
      "7/7 [==============================] - 0s 1ms/step - loss: 1643.5712 - accuracy: 0.7040\n",
      "Epoch 5/100\n",
      "7/7 [==============================] - 0s 1ms/step - loss: 2228.5325 - accuracy: 0.7300\n",
      "Epoch 6/100\n",
      "7/7 [==============================] - 0s 1ms/step - loss: 1689.7468 - accuracy: 0.7040\n",
      "Epoch 7/100\n",
      "7/7 [==============================] - 0s 1ms/step - loss: 500.6108 - accuracy: 0.5720\n",
      "Epoch 8/100\n",
      "7/7 [==============================] - 0s 1ms/step - loss: 483.5487 - accuracy: 0.6080\n",
      "Epoch 9/100\n",
      "7/7 [==============================] - 0s 1ms/step - loss: 464.6248 - accuracy: 0.6800\n",
      "Epoch 10/100\n",
      "7/7 [==============================] - 0s 1ms/step - loss: 476.2349 - accuracy: 0.6120\n",
      "Epoch 11/100\n",
      "7/7 [==============================] - 0s 1ms/step - loss: 337.5928 - accuracy: 0.6680\n",
      "Epoch 12/100\n",
      "7/7 [==============================] - 0s 1ms/step - loss: 271.8499 - accuracy: 0.6240\n",
      "Epoch 13/100\n",
      "7/7 [==============================] - 0s 1ms/step - loss: 182.0222 - accuracy: 0.6640\n",
      "Epoch 14/100\n",
      "7/7 [==============================] - 0s 2ms/step - loss: 173.7761 - accuracy: 0.6400\n",
      "Epoch 15/100\n",
      "7/7 [==============================] - 0s 2ms/step - loss: 143.0125 - accuracy: 0.6160\n",
      "Epoch 16/100\n",
      "7/7 [==============================] - 0s 2ms/step - loss: 214.9517 - accuracy: 0.6540\n",
      "Epoch 17/100\n",
      "7/7 [==============================] - 0s 1ms/step - loss: 162.1337 - accuracy: 0.6360\n",
      "Epoch 18/100\n",
      "7/7 [==============================] - 0s 1ms/step - loss: 130.4715 - accuracy: 0.6560\n",
      "Epoch 19/100\n",
      "7/7 [==============================] - 0s 1ms/step - loss: 182.2525 - accuracy: 0.6420\n",
      "Epoch 20/100\n",
      "7/7 [==============================] - 0s 1ms/step - loss: 189.3147 - accuracy: 0.6520\n",
      "Epoch 21/100\n",
      "7/7 [==============================] - 0s 1ms/step - loss: 171.3895 - accuracy: 0.6760\n",
      "Epoch 22/100\n",
      "7/7 [==============================] - 0s 2ms/step - loss: 184.2287 - accuracy: 0.6460\n",
      "Epoch 23/100\n",
      "7/7 [==============================] - 0s 1ms/step - loss: 133.2804 - accuracy: 0.6400\n",
      "Epoch 24/100\n",
      "7/7 [==============================] - 0s 1ms/step - loss: 126.1146 - accuracy: 0.6300\n",
      "Epoch 25/100\n",
      "7/7 [==============================] - 0s 1ms/step - loss: 227.6079 - accuracy: 0.6620\n",
      "Epoch 26/100\n",
      "7/7 [==============================] - 0s 1ms/step - loss: 105.3978 - accuracy: 0.6460\n",
      "Epoch 27/100\n",
      "7/7 [==============================] - 0s 1ms/step - loss: 118.8184 - accuracy: 0.6620\n",
      "Epoch 28/100\n",
      "7/7 [==============================] - 0s 1ms/step - loss: 117.8343 - accuracy: 0.5960\n",
      "Epoch 29/100\n",
      "7/7 [==============================] - 0s 1ms/step - loss: 189.8777 - accuracy: 0.6560\n",
      "Epoch 30/100\n",
      "7/7 [==============================] - 0s 1ms/step - loss: 221.6559 - accuracy: 0.6520\n",
      "Epoch 31/100\n",
      "7/7 [==============================] - 0s 1ms/step - loss: 141.7795 - accuracy: 0.6540\n",
      "Epoch 32/100\n",
      "7/7 [==============================] - 0s 1ms/step - loss: 98.8320 - accuracy: 0.6420\n",
      "Epoch 33/100\n",
      "7/7 [==============================] - 0s 2ms/step - loss: 98.3862 - accuracy: 0.6780\n",
      "Epoch 34/100\n",
      "7/7 [==============================] - 0s 2ms/step - loss: 99.5913 - accuracy: 0.6820\n",
      "Epoch 35/100\n",
      "7/7 [==============================] - 0s 2ms/step - loss: 126.5798 - accuracy: 0.6580\n",
      "Epoch 36/100\n",
      "7/7 [==============================] - 0s 1ms/step - loss: 167.7500 - accuracy: 0.6860\n",
      "Epoch 37/100\n",
      "7/7 [==============================] - 0s 1ms/step - loss: 288.4189 - accuracy: 0.6340\n",
      "Epoch 38/100\n",
      "7/7 [==============================] - 0s 2ms/step - loss: 646.2736 - accuracy: 0.6900\n",
      "Epoch 39/100\n",
      "7/7 [==============================] - 0s 2ms/step - loss: 125.7064 - accuracy: 0.6120\n",
      "Epoch 40/100\n",
      "7/7 [==============================] - 0s 1ms/step - loss: 174.7963 - accuracy: 0.6540\n",
      "Epoch 41/100\n",
      "7/7 [==============================] - 0s 1ms/step - loss: 138.9755 - accuracy: 0.6400\n",
      "Epoch 42/100\n",
      "7/7 [==============================] - 0s 1ms/step - loss: 193.0526 - accuracy: 0.7120\n",
      "Epoch 43/100\n",
      "7/7 [==============================] - 0s 1ms/step - loss: 207.9409 - accuracy: 0.6700\n",
      "Epoch 44/100\n",
      "7/7 [==============================] - 0s 1ms/step - loss: 63.1655 - accuracy: 0.6520\n",
      "Epoch 45/100\n",
      "7/7 [==============================] - 0s 1ms/step - loss: 91.2643 - accuracy: 0.6800\n",
      "Epoch 46/100\n",
      "7/7 [==============================] - 0s 1ms/step - loss: 55.4114 - accuracy: 0.6900\n",
      "Epoch 47/100\n",
      "7/7 [==============================] - 0s 1ms/step - loss: 130.1207 - accuracy: 0.6960\n",
      "Epoch 48/100\n",
      "7/7 [==============================] - 0s 1ms/step - loss: 81.7118 - accuracy: 0.7040\n",
      "Epoch 49/100\n",
      "7/7 [==============================] - 0s 1ms/step - loss: 123.6458 - accuracy: 0.6940\n",
      "Epoch 50/100\n",
      "7/7 [==============================] - 0s 1ms/step - loss: 133.5079 - accuracy: 0.6900\n",
      "Epoch 51/100\n",
      "7/7 [==============================] - 0s 1ms/step - loss: 92.7610 - accuracy: 0.6940\n",
      "Epoch 52/100\n",
      "7/7 [==============================] - 0s 1ms/step - loss: 87.0867 - accuracy: 0.6940\n",
      "Epoch 53/100\n",
      "7/7 [==============================] - 0s 2ms/step - loss: 148.1695 - accuracy: 0.7180\n",
      "Epoch 54/100\n",
      "7/7 [==============================] - 0s 2ms/step - loss: 85.7722 - accuracy: 0.6920\n",
      "Epoch 55/100\n",
      "7/7 [==============================] - 0s 2ms/step - loss: 54.7273 - accuracy: 0.7140\n",
      "Epoch 56/100\n",
      "7/7 [==============================] - 0s 1000us/step - loss: 72.1869 - accuracy: 0.6840\n",
      "Epoch 57/100\n",
      "7/7 [==============================] - 0s 1ms/step - loss: 97.4154 - accuracy: 0.7120\n",
      "Epoch 58/100\n",
      "7/7 [==============================] - 0s 1000us/step - loss: 81.3191 - accuracy: 0.7040\n",
      "Epoch 59/100\n",
      "7/7 [==============================] - 0s 1ms/step - loss: 91.3966 - accuracy: 0.7120\n",
      "Epoch 60/100\n",
      "7/7 [==============================] - 0s 1ms/step - loss: 40.3106 - accuracy: 0.7080\n",
      "Epoch 61/100\n",
      "7/7 [==============================] - 0s 1ms/step - loss: 39.9780 - accuracy: 0.7140\n",
      "Epoch 62/100\n",
      "7/7 [==============================] - 0s 1ms/step - loss: 57.8788 - accuracy: 0.7080\n",
      "Epoch 63/100\n",
      "7/7 [==============================] - 0s 1ms/step - loss: 164.5726 - accuracy: 0.7260\n",
      "Epoch 64/100\n",
      "7/7 [==============================] - 0s 1ms/step - loss: 126.4698 - accuracy: 0.6920\n",
      "Epoch 65/100\n",
      "7/7 [==============================] - 0s 1ms/step - loss: 177.5610 - accuracy: 0.7280\n",
      "Epoch 66/100\n",
      "7/7 [==============================] - 0s 1ms/step - loss: 205.7392 - accuracy: 0.6940\n",
      "Epoch 67/100\n",
      "7/7 [==============================] - 0s 1ms/step - loss: 60.7550 - accuracy: 0.6960\n",
      "Epoch 68/100\n",
      "7/7 [==============================] - 0s 1ms/step - loss: 75.2348 - accuracy: 0.6960\n",
      "Epoch 69/100\n",
      "7/7 [==============================] - 0s 1ms/step - loss: 76.4552 - accuracy: 0.6960\n",
      "Epoch 70/100\n",
      "7/7 [==============================] - 0s 2ms/step - loss: 128.4090 - accuracy: 0.7180\n",
      "Epoch 71/100\n",
      "7/7 [==============================] - 0s 1ms/step - loss: 92.6421 - accuracy: 0.7120\n",
      "Epoch 72/100\n",
      "7/7 [==============================] - 0s 1000us/step - loss: 106.2934 - accuracy: 0.7000\n",
      "Epoch 73/100\n",
      "7/7 [==============================] - 0s 1ms/step - loss: 80.4447 - accuracy: 0.7140\n",
      "Epoch 74/100\n",
      "7/7 [==============================] - 0s 2ms/step - loss: 73.0985 - accuracy: 0.6860\n",
      "Epoch 75/100\n",
      "7/7 [==============================] - 0s 1ms/step - loss: 80.0589 - accuracy: 0.7140\n",
      "Epoch 76/100\n",
      "7/7 [==============================] - 0s 1ms/step - loss: 99.7002 - accuracy: 0.7120\n",
      "Epoch 77/100\n",
      "7/7 [==============================] - 0s 1ms/step - loss: 116.1769 - accuracy: 0.7380\n",
      "Epoch 78/100\n",
      "7/7 [==============================] - 0s 1ms/step - loss: 155.7042 - accuracy: 0.6820\n",
      "Epoch 79/100\n",
      "7/7 [==============================] - 0s 1ms/step - loss: 139.0850 - accuracy: 0.6960\n",
      "Epoch 80/100\n",
      "7/7 [==============================] - 0s 2ms/step - loss: 429.3281 - accuracy: 0.7400\n",
      "Epoch 81/100\n",
      "7/7 [==============================] - 0s 2ms/step - loss: 315.3177 - accuracy: 0.6220\n",
      "Epoch 82/100\n",
      "7/7 [==============================] - 0s 2ms/step - loss: 293.5067 - accuracy: 0.7460\n",
      "Epoch 83/100\n",
      "7/7 [==============================] - 0s 1ms/step - loss: 174.0258 - accuracy: 0.6800\n",
      "Epoch 84/100\n",
      "7/7 [==============================] - 0s 1ms/step - loss: 100.3365 - accuracy: 0.6720\n",
      "Epoch 85/100\n",
      "7/7 [==============================] - 0s 1ms/step - loss: 148.6979 - accuracy: 0.7000\n",
      "Epoch 86/100\n",
      "7/7 [==============================] - 0s 1ms/step - loss: 32.4058 - accuracy: 0.6780\n",
      "Epoch 87/100\n",
      "7/7 [==============================] - 0s 1ms/step - loss: 66.3409 - accuracy: 0.7200\n",
      "Epoch 88/100\n",
      "7/7 [==============================] - 0s 1ms/step - loss: 104.2426 - accuracy: 0.7280\n",
      "Epoch 89/100\n",
      "7/7 [==============================] - 0s 1ms/step - loss: 160.2844 - accuracy: 0.6800\n",
      "Epoch 90/100\n",
      "7/7 [==============================] - 0s 1ms/step - loss: 148.5122 - accuracy: 0.6760\n",
      "Epoch 91/100\n",
      "7/7 [==============================] - 0s 1ms/step - loss: 209.4482 - accuracy: 0.7480\n",
      "Epoch 92/100\n",
      "7/7 [==============================] - 0s 1ms/step - loss: 280.5800 - accuracy: 0.6860\n",
      "Epoch 93/100\n",
      "7/7 [==============================] - 0s 1ms/step - loss: 215.6759 - accuracy: 0.7180\n",
      "Epoch 94/100\n",
      "7/7 [==============================] - 0s 1ms/step - loss: 374.7006 - accuracy: 0.7380\n",
      "Epoch 95/100\n",
      "7/7 [==============================] - 0s 1ms/step - loss: 193.8938 - accuracy: 0.6100\n",
      "Epoch 96/100\n",
      "7/7 [==============================] - 0s 1ms/step - loss: 190.0665 - accuracy: 0.7280\n",
      "Epoch 97/100\n",
      "7/7 [==============================] - 0s 1ms/step - loss: 37.0257 - accuracy: 0.7080\n",
      "Epoch 98/100\n",
      "7/7 [==============================] - 0s 917us/step - loss: 131.2587 - accuracy: 0.7180\n",
      "Epoch 99/100\n",
      "7/7 [==============================] - 0s 1ms/step - loss: 245.2310 - accuracy: 0.6780\n",
      "Epoch 100/100\n",
      "7/7 [==============================] - 0s 1ms/step - loss: 185.2444 - accuracy: 0.6940\n",
      "Best: 0.754058 using {'activation': 'relu', 'batch_size': 80, 'epochs': 100, 'learning_rate': 0.001}\n"
     ]
    }
   ],
   "source": [
    "# Import required libraries\n",
    "import numpy as np\n",
    "from keras.wrappers.scikit_learn import KerasClassifier\n",
    "from sklearn.model_selection import GridSearchCV\n",
    "from keras.models import Sequential\n",
    "from keras.layers import Dense\n",
    "from keras.optimizers import Adam\n",
    "\n",
    "# Define a function to create a Keras model\n",
    "def create_model(learning_rate=0.01, activation='relu'):\n",
    "    # create model\n",
    "    model = Sequential()\n",
    "    model.add(Dense(16, input_dim=X_train.shape[1], activation=activation))\n",
    "    model.add(Dense(8, activation=activation))\n",
    "    model.add(Dense(4, activation=activation))\n",
    "    model.add(Dense(1, activation='sigmoid'))\n",
    "\n",
    "    # Compile model\n",
    "    optimizer = Adam(lr=learning_rate)\n",
    "    model.compile(loss='binary_crossentropy', optimizer=optimizer, metrics=['accuracy'])\n",
    "    return model\n",
    "\n",
    "# Define hyperparameters\n",
    "param_grid = {'batch_size': [20, 40, 60, 80, 100],\n",
    "                'epochs': [100, 200, 300, 400, 500],\n",
    "                'learning_rate': [0.01, 0.001, 0.0001],\n",
    "                'activation': ['relu', 'tanh']}\n",
    "\n",
    "# Create a KerasClassifier object\n",
    "model = KerasClassifier(build_fn=create_model)\n",
    "\n",
    "# Create a GridSearchCV object\n",
    "grid = GridSearchCV(estimator=model, param_grid=param_grid, n_jobs=-1, cv=3)\n",
    "\n",
    "# Fit the GridSearchCV object with the data\n",
    "grid_result = grid.fit(X_train, y_train)\n",
    "\n",
    "# Print the best score and best parameters\n",
    "print(\"Best: %f using %s\" % (grid_result.best_score_, grid_result.best_params_))"
   ]
  },
  {
   "attachments": {},
   "cell_type": "markdown",
   "metadata": {},
   "source": [
    "After model optimization we are able to improve accuracy from 73% to 75%, which is still an improvement. However, the model is still not very accurate, a good reason might be the imbalance of the data, which is something to keep in mind, but it's also the nature of fraud."
   ]
  }
 ],
 "metadata": {
  "kernelspec": {
   "display_name": "base",
   "language": "python",
   "name": "python3"
  },
  "language_info": {
   "codemirror_mode": {
    "name": "ipython",
    "version": 3
   },
   "file_extension": ".py",
   "mimetype": "text/x-python",
   "name": "python",
   "nbconvert_exporter": "python",
   "pygments_lexer": "ipython3",
   "version": "3.9.12"
  },
  "orig_nbformat": 4
 },
 "nbformat": 4,
 "nbformat_minor": 2
}
